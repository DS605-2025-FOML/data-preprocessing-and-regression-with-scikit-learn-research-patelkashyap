{
 "cells": [
  {
   "cell_type": "code",
   "execution_count": 1,
   "id": "ae6d5b37",
   "metadata": {},
   "outputs": [
    {
     "name": "stdout",
     "output_type": "stream",
     "text": [
      "Collecting scikit-learn\n",
      "  Downloading scikit_learn-1.3.2-cp38-cp38-macosx_12_0_arm64.whl.metadata (11 kB)\n",
      "Requirement already satisfied: numpy<2.0,>=1.17.3 in /Users/kashyappatel/anaconda3/envs/ds605/lib/python3.8/site-packages (from scikit-learn) (1.24.4)\n",
      "Requirement already satisfied: scipy>=1.5.0 in /Users/kashyappatel/anaconda3/envs/ds605/lib/python3.8/site-packages (from scikit-learn) (1.10.1)\n",
      "Collecting joblib>=1.1.1 (from scikit-learn)\n",
      "  Using cached joblib-1.4.2-py3-none-any.whl.metadata (5.4 kB)\n",
      "Collecting threadpoolctl>=2.0.0 (from scikit-learn)\n",
      "  Using cached threadpoolctl-3.5.0-py3-none-any.whl.metadata (13 kB)\n",
      "Downloading scikit_learn-1.3.2-cp38-cp38-macosx_12_0_arm64.whl (9.4 MB)\n",
      "\u001b[2K   \u001b[90m━━━━━━━━━━━━━━━━━━━━━━━━━━━━━━━━━━━━━━━━\u001b[0m \u001b[32m9.4/9.4 MB\u001b[0m \u001b[31m1.3 MB/s\u001b[0m eta \u001b[36m0:00:00\u001b[0m00:01\u001b[0m00:02\u001b[0m0m\n",
      "\u001b[?25hUsing cached joblib-1.4.2-py3-none-any.whl (301 kB)\n",
      "Using cached threadpoolctl-3.5.0-py3-none-any.whl (18 kB)\n",
      "Installing collected packages: threadpoolctl, joblib, scikit-learn\n",
      "Successfully installed joblib-1.4.2 scikit-learn-1.3.2 threadpoolctl-3.5.0\n"
     ]
    }
   ],
   "source": [
    "!pip install scikit-learn"
   ]
  },
  {
   "cell_type": "code",
   "execution_count": null,
   "id": "411eb2e4",
   "metadata": {},
   "outputs": [],
   "source": [
    "import pandas as pd\n",
    "import numpy as np"
   ]
  },
  {
   "cell_type": "code",
   "execution_count": 14,
   "id": "728fba49",
   "metadata": {},
   "outputs": [],
   "source": [
    "import plotly.graph_objects as go\n",
    "from plotly.subplots import make_subplots"
   ]
  },
  {
   "cell_type": "code",
   "execution_count": 60,
   "id": "cbcfbec3",
   "metadata": {},
   "outputs": [],
   "source": [
    "from sklearn.pipeline import Pipeline\n",
    "from sklearn.impute import SimpleImputer\n",
    "from sklearn.preprocessing import StandardScaler, OneHotEncoder\n",
    "from sklearn.compose import ColumnTransformer\n",
    "from sklearn.model_selection import train_test_split"
   ]
  },
  {
   "cell_type": "code",
   "execution_count": 32,
   "id": "6726bc11",
   "metadata": {},
   "outputs": [
    {
     "name": "stdout",
     "output_type": "stream",
     "text": [
      "Collecting xgboost\n",
      "  Downloading xgboost-2.1.4-py3-none-macosx_12_0_arm64.whl.metadata (2.1 kB)\n",
      "Requirement already satisfied: numpy in /Users/kashyappatel/anaconda3/envs/ds605/lib/python3.8/site-packages (from xgboost) (1.24.4)\n",
      "Requirement already satisfied: scipy in /Users/kashyappatel/anaconda3/envs/ds605/lib/python3.8/site-packages (from xgboost) (1.10.1)\n",
      "Downloading xgboost-2.1.4-py3-none-macosx_12_0_arm64.whl (1.9 MB)\n",
      "\u001b[2K   \u001b[90m━━━━━━━━━━━━━━━━━━━━━━━━━━━━━━━━━━━━━━━━\u001b[0m \u001b[32m1.9/1.9 MB\u001b[0m \u001b[31m10.9 MB/s\u001b[0m eta \u001b[36m0:00:00\u001b[0ma \u001b[36m0:00:01\u001b[0m\n",
      "\u001b[?25hInstalling collected packages: xgboost\n",
      "Successfully installed xgboost-2.1.4\n",
      "Note: you may need to restart the kernel to use updated packages.\n"
     ]
    }
   ],
   "source": [
    "pip install xgboost"
   ]
  },
  {
   "cell_type": "code",
   "execution_count": 54,
   "id": "0ead140b",
   "metadata": {},
   "outputs": [],
   "source": [
    "from sklearn.ensemble import RandomForestRegressor, GradientBoostingRegressor\n",
    "from xgboost import XGBRegressor\n",
    "from sklearn.pipeline import Pipeline\n",
    "from sklearn.model_selection import GridSearchCV"
   ]
  },
  {
   "cell_type": "code",
   "execution_count": 93,
   "id": "3560497a",
   "metadata": {},
   "outputs": [],
   "source": [
    "from sklearn.metrics import r2_score, mean_absolute_error, mean_squared_error"
   ]
  },
  {
   "cell_type": "code",
   "execution_count": 97,
   "id": "9ecee8cc",
   "metadata": {},
   "outputs": [],
   "source": [
    "import plotly.express as px"
   ]
  },
  {
   "cell_type": "markdown",
   "id": "7c173429",
   "metadata": {},
   "source": [
    "## Task 1"
   ]
  },
  {
   "cell_type": "code",
   "execution_count": 7,
   "id": "d133045a",
   "metadata": {},
   "outputs": [
    {
     "data": {
      "application/vnd.microsoft.datawrangler.viewer.v0+json": {
       "columns": [
        {
         "name": "index",
         "rawType": "int64",
         "type": "integer"
        },
        {
         "name": "id",
         "rawType": "int64",
         "type": "integer"
        },
        {
         "name": "date",
         "rawType": "object",
         "type": "string"
        },
        {
         "name": "price",
         "rawType": "float64",
         "type": "float"
        },
        {
         "name": "bedrooms",
         "rawType": "int64",
         "type": "integer"
        },
        {
         "name": "bathrooms",
         "rawType": "float64",
         "type": "float"
        },
        {
         "name": "sqft_living",
         "rawType": "int64",
         "type": "integer"
        },
        {
         "name": "sqft_lot",
         "rawType": "int64",
         "type": "integer"
        },
        {
         "name": "floors",
         "rawType": "float64",
         "type": "float"
        },
        {
         "name": "waterfront",
         "rawType": "int64",
         "type": "integer"
        },
        {
         "name": "view",
         "rawType": "int64",
         "type": "integer"
        },
        {
         "name": "condition",
         "rawType": "int64",
         "type": "integer"
        },
        {
         "name": "grade",
         "rawType": "int64",
         "type": "integer"
        },
        {
         "name": "sqft_above",
         "rawType": "int64",
         "type": "integer"
        },
        {
         "name": "sqft_basement",
         "rawType": "int64",
         "type": "integer"
        },
        {
         "name": "yr_built",
         "rawType": "int64",
         "type": "integer"
        },
        {
         "name": "yr_renovated",
         "rawType": "int64",
         "type": "integer"
        },
        {
         "name": "zipcode",
         "rawType": "int64",
         "type": "integer"
        },
        {
         "name": "lat",
         "rawType": "float64",
         "type": "float"
        },
        {
         "name": "long",
         "rawType": "float64",
         "type": "float"
        },
        {
         "name": "sqft_living15",
         "rawType": "int64",
         "type": "integer"
        },
        {
         "name": "sqft_lot15",
         "rawType": "int64",
         "type": "integer"
        }
       ],
       "ref": "0f963973-1409-4f8c-80e4-ef7a9902eb15",
       "rows": [
        [
         "0",
         "7129300520",
         "20141013T000000",
         "221900.0",
         "3",
         "1.0",
         "1180",
         "5650",
         "1.0",
         "0",
         "0",
         "3",
         "7",
         "1180",
         "0",
         "1955",
         "0",
         "98178",
         "47.5112",
         "-122.257",
         "1340",
         "5650"
        ],
        [
         "1",
         "6414100192",
         "20141209T000000",
         "538000.0",
         "3",
         "2.25",
         "2570",
         "7242",
         "2.0",
         "0",
         "0",
         "3",
         "7",
         "2170",
         "400",
         "1951",
         "1991",
         "98125",
         "47.721",
         "-122.319",
         "1690",
         "7639"
        ],
        [
         "2",
         "5631500400",
         "20150225T000000",
         "180000.0",
         "2",
         "1.0",
         "770",
         "10000",
         "1.0",
         "0",
         "0",
         "3",
         "6",
         "770",
         "0",
         "1933",
         "0",
         "98028",
         "47.7379",
         "-122.233",
         "2720",
         "8062"
        ],
        [
         "3",
         "2487200875",
         "20141209T000000",
         "604000.0",
         "4",
         "3.0",
         "1960",
         "5000",
         "1.0",
         "0",
         "0",
         "5",
         "7",
         "1050",
         "910",
         "1965",
         "0",
         "98136",
         "47.5208",
         "-122.393",
         "1360",
         "5000"
        ],
        [
         "4",
         "1954400510",
         "20150218T000000",
         "510000.0",
         "3",
         "2.0",
         "1680",
         "8080",
         "1.0",
         "0",
         "0",
         "3",
         "8",
         "1680",
         "0",
         "1987",
         "0",
         "98074",
         "47.6168",
         "-122.045",
         "1800",
         "7503"
        ]
       ],
       "shape": {
        "columns": 21,
        "rows": 5
       }
      },
      "text/html": [
       "<div>\n",
       "<style scoped>\n",
       "    .dataframe tbody tr th:only-of-type {\n",
       "        vertical-align: middle;\n",
       "    }\n",
       "\n",
       "    .dataframe tbody tr th {\n",
       "        vertical-align: top;\n",
       "    }\n",
       "\n",
       "    .dataframe thead th {\n",
       "        text-align: right;\n",
       "    }\n",
       "</style>\n",
       "<table border=\"1\" class=\"dataframe\">\n",
       "  <thead>\n",
       "    <tr style=\"text-align: right;\">\n",
       "      <th></th>\n",
       "      <th>id</th>\n",
       "      <th>date</th>\n",
       "      <th>price</th>\n",
       "      <th>bedrooms</th>\n",
       "      <th>bathrooms</th>\n",
       "      <th>sqft_living</th>\n",
       "      <th>sqft_lot</th>\n",
       "      <th>floors</th>\n",
       "      <th>waterfront</th>\n",
       "      <th>view</th>\n",
       "      <th>...</th>\n",
       "      <th>grade</th>\n",
       "      <th>sqft_above</th>\n",
       "      <th>sqft_basement</th>\n",
       "      <th>yr_built</th>\n",
       "      <th>yr_renovated</th>\n",
       "      <th>zipcode</th>\n",
       "      <th>lat</th>\n",
       "      <th>long</th>\n",
       "      <th>sqft_living15</th>\n",
       "      <th>sqft_lot15</th>\n",
       "    </tr>\n",
       "  </thead>\n",
       "  <tbody>\n",
       "    <tr>\n",
       "      <th>0</th>\n",
       "      <td>7129300520</td>\n",
       "      <td>20141013T000000</td>\n",
       "      <td>221900.0</td>\n",
       "      <td>3</td>\n",
       "      <td>1.00</td>\n",
       "      <td>1180</td>\n",
       "      <td>5650</td>\n",
       "      <td>1.0</td>\n",
       "      <td>0</td>\n",
       "      <td>0</td>\n",
       "      <td>...</td>\n",
       "      <td>7</td>\n",
       "      <td>1180</td>\n",
       "      <td>0</td>\n",
       "      <td>1955</td>\n",
       "      <td>0</td>\n",
       "      <td>98178</td>\n",
       "      <td>47.5112</td>\n",
       "      <td>-122.257</td>\n",
       "      <td>1340</td>\n",
       "      <td>5650</td>\n",
       "    </tr>\n",
       "    <tr>\n",
       "      <th>1</th>\n",
       "      <td>6414100192</td>\n",
       "      <td>20141209T000000</td>\n",
       "      <td>538000.0</td>\n",
       "      <td>3</td>\n",
       "      <td>2.25</td>\n",
       "      <td>2570</td>\n",
       "      <td>7242</td>\n",
       "      <td>2.0</td>\n",
       "      <td>0</td>\n",
       "      <td>0</td>\n",
       "      <td>...</td>\n",
       "      <td>7</td>\n",
       "      <td>2170</td>\n",
       "      <td>400</td>\n",
       "      <td>1951</td>\n",
       "      <td>1991</td>\n",
       "      <td>98125</td>\n",
       "      <td>47.7210</td>\n",
       "      <td>-122.319</td>\n",
       "      <td>1690</td>\n",
       "      <td>7639</td>\n",
       "    </tr>\n",
       "    <tr>\n",
       "      <th>2</th>\n",
       "      <td>5631500400</td>\n",
       "      <td>20150225T000000</td>\n",
       "      <td>180000.0</td>\n",
       "      <td>2</td>\n",
       "      <td>1.00</td>\n",
       "      <td>770</td>\n",
       "      <td>10000</td>\n",
       "      <td>1.0</td>\n",
       "      <td>0</td>\n",
       "      <td>0</td>\n",
       "      <td>...</td>\n",
       "      <td>6</td>\n",
       "      <td>770</td>\n",
       "      <td>0</td>\n",
       "      <td>1933</td>\n",
       "      <td>0</td>\n",
       "      <td>98028</td>\n",
       "      <td>47.7379</td>\n",
       "      <td>-122.233</td>\n",
       "      <td>2720</td>\n",
       "      <td>8062</td>\n",
       "    </tr>\n",
       "    <tr>\n",
       "      <th>3</th>\n",
       "      <td>2487200875</td>\n",
       "      <td>20141209T000000</td>\n",
       "      <td>604000.0</td>\n",
       "      <td>4</td>\n",
       "      <td>3.00</td>\n",
       "      <td>1960</td>\n",
       "      <td>5000</td>\n",
       "      <td>1.0</td>\n",
       "      <td>0</td>\n",
       "      <td>0</td>\n",
       "      <td>...</td>\n",
       "      <td>7</td>\n",
       "      <td>1050</td>\n",
       "      <td>910</td>\n",
       "      <td>1965</td>\n",
       "      <td>0</td>\n",
       "      <td>98136</td>\n",
       "      <td>47.5208</td>\n",
       "      <td>-122.393</td>\n",
       "      <td>1360</td>\n",
       "      <td>5000</td>\n",
       "    </tr>\n",
       "    <tr>\n",
       "      <th>4</th>\n",
       "      <td>1954400510</td>\n",
       "      <td>20150218T000000</td>\n",
       "      <td>510000.0</td>\n",
       "      <td>3</td>\n",
       "      <td>2.00</td>\n",
       "      <td>1680</td>\n",
       "      <td>8080</td>\n",
       "      <td>1.0</td>\n",
       "      <td>0</td>\n",
       "      <td>0</td>\n",
       "      <td>...</td>\n",
       "      <td>8</td>\n",
       "      <td>1680</td>\n",
       "      <td>0</td>\n",
       "      <td>1987</td>\n",
       "      <td>0</td>\n",
       "      <td>98074</td>\n",
       "      <td>47.6168</td>\n",
       "      <td>-122.045</td>\n",
       "      <td>1800</td>\n",
       "      <td>7503</td>\n",
       "    </tr>\n",
       "  </tbody>\n",
       "</table>\n",
       "<p>5 rows × 21 columns</p>\n",
       "</div>"
      ],
      "text/plain": [
       "           id             date     price  bedrooms  bathrooms  sqft_living  \\\n",
       "0  7129300520  20141013T000000  221900.0         3       1.00         1180   \n",
       "1  6414100192  20141209T000000  538000.0         3       2.25         2570   \n",
       "2  5631500400  20150225T000000  180000.0         2       1.00          770   \n",
       "3  2487200875  20141209T000000  604000.0         4       3.00         1960   \n",
       "4  1954400510  20150218T000000  510000.0         3       2.00         1680   \n",
       "\n",
       "   sqft_lot  floors  waterfront  view  ...  grade  sqft_above  sqft_basement  \\\n",
       "0      5650     1.0           0     0  ...      7        1180              0   \n",
       "1      7242     2.0           0     0  ...      7        2170            400   \n",
       "2     10000     1.0           0     0  ...      6         770              0   \n",
       "3      5000     1.0           0     0  ...      7        1050            910   \n",
       "4      8080     1.0           0     0  ...      8        1680              0   \n",
       "\n",
       "   yr_built  yr_renovated  zipcode      lat     long  sqft_living15  \\\n",
       "0      1955             0    98178  47.5112 -122.257           1340   \n",
       "1      1951          1991    98125  47.7210 -122.319           1690   \n",
       "2      1933             0    98028  47.7379 -122.233           2720   \n",
       "3      1965             0    98136  47.5208 -122.393           1360   \n",
       "4      1987             0    98074  47.6168 -122.045           1800   \n",
       "\n",
       "   sqft_lot15  \n",
       "0        5650  \n",
       "1        7639  \n",
       "2        8062  \n",
       "3        5000  \n",
       "4        7503  \n",
       "\n",
       "[5 rows x 21 columns]"
      ]
     },
     "execution_count": 7,
     "metadata": {},
     "output_type": "execute_result"
    }
   ],
   "source": [
    "df = pd.read_csv(\"https://raw.githubusercontent.com/panchaldhruv27223/datasets_for_ml_-csv-xlsl-/refs/heads/main/kc_house_data.csv\")\n",
    "df.head()"
   ]
  },
  {
   "cell_type": "code",
   "execution_count": 8,
   "id": "3f9d964a",
   "metadata": {},
   "outputs": [
    {
     "name": "stdout",
     "output_type": "stream",
     "text": [
      "<class 'pandas.core.frame.DataFrame'>\n",
      "RangeIndex: 21613 entries, 0 to 21612\n",
      "Data columns (total 21 columns):\n",
      " #   Column         Non-Null Count  Dtype  \n",
      "---  ------         --------------  -----  \n",
      " 0   id             21613 non-null  int64  \n",
      " 1   date           21613 non-null  object \n",
      " 2   price          21613 non-null  float64\n",
      " 3   bedrooms       21613 non-null  int64  \n",
      " 4   bathrooms      21613 non-null  float64\n",
      " 5   sqft_living    21613 non-null  int64  \n",
      " 6   sqft_lot       21613 non-null  int64  \n",
      " 7   floors         21613 non-null  float64\n",
      " 8   waterfront     21613 non-null  int64  \n",
      " 9   view           21613 non-null  int64  \n",
      " 10  condition      21613 non-null  int64  \n",
      " 11  grade          21613 non-null  int64  \n",
      " 12  sqft_above     21613 non-null  int64  \n",
      " 13  sqft_basement  21613 non-null  int64  \n",
      " 14  yr_built       21613 non-null  int64  \n",
      " 15  yr_renovated   21613 non-null  int64  \n",
      " 16  zipcode        21613 non-null  int64  \n",
      " 17  lat            21613 non-null  float64\n",
      " 18  long           21613 non-null  float64\n",
      " 19  sqft_living15  21613 non-null  int64  \n",
      " 20  sqft_lot15     21613 non-null  int64  \n",
      "dtypes: float64(5), int64(15), object(1)\n",
      "memory usage: 3.5+ MB\n"
     ]
    }
   ],
   "source": [
    "df.info()"
   ]
  },
  {
   "cell_type": "code",
   "execution_count": 9,
   "id": "86990e71",
   "metadata": {},
   "outputs": [],
   "source": [
    "np.random.seed(42)"
   ]
  },
  {
   "cell_type": "code",
   "execution_count": 10,
   "id": "1e432c76",
   "metadata": {},
   "outputs": [],
   "source": [
    "for col in [\"sqft_lot\", \"bathrooms\"]:\n",
    "    df.loc[df.sample(frac=0.05, random_state=42).index, col] = np.nan"
   ]
  },
  {
   "cell_type": "code",
   "execution_count": 12,
   "id": "0fb1bfb4",
   "metadata": {},
   "outputs": [
    {
     "name": "stdout",
     "output_type": "stream",
     "text": [
      "<class 'pandas.core.frame.DataFrame'>\n",
      "RangeIndex: 21613 entries, 0 to 21612\n",
      "Data columns (total 21 columns):\n",
      " #   Column         Non-Null Count  Dtype  \n",
      "---  ------         --------------  -----  \n",
      " 0   id             21613 non-null  int64  \n",
      " 1   date           21613 non-null  object \n",
      " 2   price          21613 non-null  float64\n",
      " 3   bedrooms       21613 non-null  int64  \n",
      " 4   bathrooms      20532 non-null  float64\n",
      " 5   sqft_living    21613 non-null  int64  \n",
      " 6   sqft_lot       20532 non-null  float64\n",
      " 7   floors         21613 non-null  float64\n",
      " 8   waterfront     21613 non-null  int64  \n",
      " 9   view           21613 non-null  int64  \n",
      " 10  condition      21613 non-null  int64  \n",
      " 11  grade          21613 non-null  int64  \n",
      " 12  sqft_above     21613 non-null  int64  \n",
      " 13  sqft_basement  21613 non-null  int64  \n",
      " 14  yr_built       21613 non-null  int64  \n",
      " 15  yr_renovated   21613 non-null  int64  \n",
      " 16  zipcode        21613 non-null  int64  \n",
      " 17  lat            21613 non-null  float64\n",
      " 18  long           21613 non-null  float64\n",
      " 19  sqft_living15  21613 non-null  int64  \n",
      " 20  sqft_lot15     21613 non-null  int64  \n",
      "dtypes: float64(6), int64(14), object(1)\n",
      "memory usage: 3.5+ MB\n"
     ]
    }
   ],
   "source": [
    "df.info()"
   ]
  },
  {
   "cell_type": "code",
   "execution_count": 15,
   "id": "bc6a22e6",
   "metadata": {},
   "outputs": [
    {
     "data": {
      "application/vnd.plotly.v1+json": {
       "config": {
        "plotlyServerURL": "https://plot.ly"
       },
       "data": [
        {
         "name": "price",
         "type": "box",
         "xaxis": "x",
         "y": {
          "bdata": "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",
          "dtype": "f8"
         },
         "yaxis": "y"
        },
        {
         "name": "sqft_living",
         "type": "box",
         "xaxis": "x2",
         "y": {
          "bdata": "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",
          "dtype": "i2"
         },
         "yaxis": "y2"
        },
        {
         "name": "bedrooms",
         "type": "box",
         "xaxis": "x3",
         "y": {
          "bdata": "AwMCBAMEAwMDAwMCAwMFBAMEAgMEAwUCAwMDAwMEAwIEAwQDBAQEBAQEBQMDAwMEAwMDBQMCBQQEAwUEAwMDAwMDBAQDBQUDBAQDBAQDAwQDBAIDAwMFAwICBAUDAwMEAwQDAwMDAwMDAwMCBAUEAwMDBAMDAgQEAwMCBAMEAwQFBAMEAwMEAwQEAgMCBQMDBAQEAgUDAwMDBAEDBQQDBAUDAwMDAwIEAwMDAwMEBAMFAwMCAwQEAgQFBAMEAwMDAwMDAwQDAwMDAwMDAwQDAwIGBAMEAwQCBQMCAgQDBAMDAwIEAwMCBAYCAwUDBAMGAwICAwIDBAIEAwMEAwMDAgQDAwQDAwMCAQQDAgMEBAIDAwMDAwQEAwQCBQQDBAUDBQIEBAQEAwQDAwMDBAMDAwMDBAQCBAQFBQQEBAMDAgQFAwMDAgIDBAMDBAYDAgQEAwQDAwQEAwQEBAQCAwQBBAMCBAQEBAMDAwUEAwUDBAQEBAMEBAUDBAMDBAMCAwQEBQQDAwQEBAMDBAQCBQQDBAMEAgMEAwMDBAQDAgMDBAMEBAMFAgMDAwIDBQMEAwQEBAMEBAUDAgMDAwIDAwMDAwUDAwMDAwMDAwMEAwQDAwQDAQMEAwMCAwQEBAQDAwIEBAMDAwQEBgIEBQQDAwUDAgQDAgMEAgMEAwIDAwIEBAQFBAMCAwMEBAMCBQQCAgQGBAMDAgQDAwMEAgMEAwQEAwMEBAIEAgMDAwIDBAcEBgQEBAMEAwMDBQMCBAQFBQMCAwQEAwMDAgQEAwMDAwMDAwMEBAMCAwQEAgQDAwMEAgIDBAIDAwMDAwMDAwMDAwMCAwMDAwMEAwIDAwIDAwMDAwIEBQMDAwMDAQQDBAMDAwMDAwQDAwQDAwMDAwQDBAMEBAQDAwICAwQDBAQEBAUDBAMDAwUEAgQDBQQDBAICBAQCAgMEAwMEAwQEBQQDBgYDAwIEAwUDAgIDBAMDAwMEBAMDAwMEAgMDAwQEAwMEAwMDAgMDBQIEBQQDAwQDAwQDBAMEAwUCAwMDBAQFAwMDBAYFAgQDAwMEBAQCBAQEAwQDBAMFBAMEAwMDAwIDBAQDAwIFAwMEAwMDAwMEAwQDAwQGAwMCAgQEBAMDAwQDBAMDAwQDAwQFBAMEAwMBAwMDBAMDAwIFAwMDBAMAAwMDAwMEBAMEBQUCAwMDBAQCAwUFAwQDBAQEAQMDAwMFAwMEAwQDAwMDAgUDAwMDAwQEAwIEAwUDAwQDBAIDAwQCBAUFBAQDAwMFAwMDBAQEAwMEBAMCBAQDAwQDBAMDAwMEBAUDAwMDBQICAgMEAwQDBAQEAwIEAgICAwQDBAMDAwMEAwIEAwQEAgMEAwQEBAMDAwMEAgQDAgQEAgMDBAUDBAMCBAMCAwMEAgMDAwQEBAQEAwMEAwIFBAMDAwEDAwIFAwQDAgMEAgQDBAIDAwQEBAMDBAUDBQQDAwMCAgIFBQIDBAMEAgMEAwIEBAMEAgUDBAQDBQQDBAMCBQUDAwMEAwcDAwIDBAUEBAQDAwQDAQIEBAMEAgMEBAMFBAYGBQMDAwIEBAQDAwMDAwIEBAQDBAMEAwMCAgMDBAIDAgYFAwIEAwMDAwMEAwMEBQQEAwMEAwQFAgMEBAMDBAQDBAYEAwMEAwICAwMEBAQHAgMEBAQFAgMDAwUFAwIDBQUEBAMDBQMDBgMDAwMEBAMDAgQCBAMDAwMDAgMEAwMEAwMCAwQDBAIDAwQDBAMDAgYDAwMFBAQDBAYDBAMDBAMDAwQCAwIEBAUCBAQCAwMCBAQDBQQDBQMEBAQEBAMDAwIDBAQEAwMFAwMDBAIDBAQCAwQFAwMCAwEEAwMEBAMDAwMDAQQCAgIEBAQEBAIEAwIDBAQDAwQCAwMEBgQEAwIDAwQDBAQCBAIDBAQFAwIEAwQFAwMDAwMDAwQDAwMFAwICAwQDAwUBAwMDBAMCAwMEAwQDAwUEAwQEAwMGBAQDAwMDAgUEAwMEAgMEAwQDAwQEAwMFBgUEAwQEBAQDBQIDAwMEAwQDAwMDBAQDBQUEBAMDAgQGBQMEBgMDAgMEBAQDAgQEAwMEBAMDBQMDBAMCBAMEAwMEAwUEBAQDAwMDAwMCBAQEAwMEAgMCAwQDBAMGAwMCBAQDBAQDAgUDAwMEBAMEAwMDAwMCAwQEBAMCAgQCAQMEAwMDBAMCAwUFBAMDAwIDAgQEAwICAQQDBAQEAwgEAwQDAwQFAwMEAwMEBgQEAwMFAwQDAwMEAwMCAgQDBAIDAwUEBAMDAgQDAwMEAwQEAwMGAwQDAwIGBAUDAwMDBAMDAwUFAwQEAQQDBAMFAwQFBAUEBAMCAgMCBgIDAwUEAwQDBQQEBAQEAwUEBAQEBAMDAwMEAwMEAgMEBAQDAgMEBAICBAQDBAQEBAMEBAUEAwQEAwMFBAMDAwQEBAQCAwQFBAIDAwQDAgIEBQIEAwMEAwIEBAQDAwMEBQIEBAMCAwUEBAIFBQIEAwQEAwIEBQMEBQMDAwUFBAMDBAYDAwMEBAMCAwQDBAQEBAMDBAQDBAQEBAIDBAMCBAMDAwIDAwQEAgUDAwMDBQMEAwQGBQQEBAMDBAMDAwMDBAQFBAQCAgMDBAMEAQQDBAQDAwMDAwIFBAIEAQQCAgECAwQDAwQEAwMEBgMEBAQDBAMCAwMDBAQCAwQFAwIDBAEDAwIDAgQDAwMEBQUEAgMDAwEDBAMEAQIEAwQDAgMDBAQCAwQEAwQEAgQDBAMDBAIEAgMDBAUCAwMDBAMDBgQDAgYDAwQDBQQCAwQDBAMCBQQEAwMCBQQEBAMCAwMDBAMDAwQEAwIDBQUEBAMEAwUEAwIEAgMDAwMCAwQCAwQDBAMEBAUCBAQDAgQDAwMDAgMEAwQBAwMDBAMDAwMCAwMFBAQDBAMDAwQDAwMFBQQDBAQEAwQDAwUEAwMDBAQDBAQEBAMCBAMDBAUEAwQEAwQEBAQEAwQEAgMDBAMDBAIEAwUEAwQDAgQDBQQEAwIDBAQDAwMCAgQDBAMDAwMCBQQEAwUFBAMDBAMDAwQDAgQCAwQDAwQDBAMDAwMEAwMDBQUEBQMDAwMCAgQGBAQEBgQDAgQEBQQEAwMDAwMEBAMEAwQCAwQDBAMEBAMCBAMDBQQGAwIEAwMEAgMEBAMEAwQDBAMFBAQGAwIEBQMCAwQDAgUEAwMDBgUDBAIDBAQDAwMEAwQEBAQEAwMEAwQDBAQDBAMGBAMDAwMCAwQCBAMEBQMDAwQFAwICAwQDAgMDAgQEBQMCAwUFBAMCBAUEAwMDAgUEAgUDAwMEBAQEBAMCAgQEAgQEAwMDBAQEAwMEAgMDAwUDAwMEBgYDAwMEAwMDAwQDAwMCBAMDBAIGAwMEAwMEAwIFAwQDBAIDAwQCBAQDBAIDAwMDBQMEAwQDBAMEAwMDAwMDBAMEAwQEBAMGAgUEAwMDAwMEBAQDBAIEAwMEAwMDAgMDBAUDAwIDAwIDAgICAwMCBAMEAwMDBQQDAwMDAgUDBAMDAwUDAgYDAwMDBQMDAwMDAwQDAwQEAwQFBAMEBAYDBAUEBAMEAwMEBAMEAwYDAwYDBAMEAgMDAwICBAQDBAMBBAMEBAMEBQQCAgIDBQIEAgIFAwMEBgIDAwUDAwMDAgQDAwMDAwQFBgMDBAMEBAQEAwMEAwMEBQQDAwQFAwUEBAMDBQMDAwIDAwQDAwMEAwMDBAMFBQMDAwMDAwMEBAQDBAICBAIEBQIEAwQCAgQEBQQDAwMDBAMEBAMFBAUCAgQCBAUDAwIDAwMGAwMEAwUDBAQEAwMDAwQCAwMDAwQFBAMEAwUGAgMEBAMEAwQCAwQDAgMEAwQDAgQDAgMEAgMDBAIEBAQDAwMDAwMCAwQDAwUEAwUFAwQDBAMGAwMDAwIDBQMDBAQDBAUDAwQDBQMBBAMBBAIDBAMEAwMDBAMEBAQDBAMDBAIEBQQDAwMCBAMCAwMDAwIDAwQDAwMDAQQDAgICAwQDBAQDBAQEAwQFAwMEAwQEBAMDBAMEAwQEAgIEBAMEAgMDBAQDBQIEAwIDAwQDAwQDBAMEAwMEAwQCBAQFAQIDBAMDAwQEAwMDAgMDAwQDAwQCAgQFAgIEAwUEAwMCAwUDAgYEAgIEAwQCAwQDAgQDAwIDAgMEAwQDBAQEAwMDAQMEAwMEAwMDAwIAAwQDBAQCBAMEBAMDAwMEAgMFAgIDAwMEBAMEAwMEAwMGBAMEBAICAwMDAgMEBAMCBAMDBAQDAwMDAgMCAwMCAwMDAwMCBAQDBAMFBAIEAwIFAgIFBAQDBAMEAwIEAgMDBQMEAwMEAwEEBAMDAwMCBAQEAgYCBQQCAwMDAwMEAwUDAwMEBQEEAwQEAwMCAwMEAwMEAwQDAwQDBAICAwUDAwIFBQQEAQMCAwMEAgQDAwMEBAMDAwQDAQMDAwMEAgMDAgMEAgMEAwQDAgQDBAUFBAIDAwUCAgMCAwMGAwQDAwIEAwUDBAQEAwUDAwMEAwMEAwIDBQQEAwQEAwQDAgQCAgMCBAMEAwQBBQQDAgQDAgQCAgICAwIEAwQDAgIDAwQEBAQCAgMCAwIEBAIEBQMDAwIDAwQEAwQDAgMDAwMDAwQCBAMCAgQDBAQCAwQCAgMFBAUDBAMDBAMFAwMAAgMDBQQDAwIFAwMCBAMDAwMCAwMDAQQEBAIDAgQCAwQEBAIDBAQEAgQEBAIEAwQDBAQEBQQDAwYDAgUDAwUEBAMDAwUDAgQFBgYEBAQDAwQEBAMEAgMEBAQEAwMDAgMDAwMDAwMCAwMDBAIEAwQDAgIEAQMDAwQCBAMEAwMEBQQEAwUEBAQBAwMCBAUDAgMEBAYEBAIDAgIFAgIDAwQCAwQEBAMDAwUDAwQDBAIEAwMEAwMDBgQEBQUDAwMDBAMDBQEDAgQDBAMEAwMDBQUDAwMCBQQCAwQDAwMDBAQDAwMDBAMDAwMEBAMEBAMDAgMDBAQDAwMEBAMCAgQDBgcDAwMGBQQCBAMEAwQEBAMCAwMCAwMDBAYDBAUDAwMEAgUDAwMDAwMEAwQFAwUCAgQDAwUEAwQGBQMDAwUEBAMDAwMDBAMEAwMDBAIEBAMCBAMDBAEEBAIFAwUEBAMEAgIEAgMFBAQDAwUCAwIEBAMDAgQDAQICAgQDBQMEBAMDBAMDAwQDAwQDAwMEBAMDAwQDBAUEAwUEBAEDAwMDAwMDAwMDAgMEAwUCBAUDAwIFAwMEAgMEAwQDBAIDBAQDBAMFAwQDBAICBAIDBAYDAwMDAwQEAwMEBgMCAgMDAwMDAwMDAwQEBAMDBAMEBQQEAgQEBAQDBQQCAwIDBAQDAgMDAwMEBAMFAQMDAQMEBAMEBAQDBAQDAwIDBQQDAwMCAwIEAwMDAwMDAwQDAgUDBAcDAwQDAgMDBQMDCAQDBAMDBAMDAwQDBAMDAwMEAgMCAgQDAwQDAwQDAwMIAwUDBAMDBAMDAwMDAwMDAwMDAwIDAQIEAwQDAwkDAwQDBAQDAwIEBgQDBAMDAwQEBQMEBAQEAgQDBQUEAwMFAwQDAwQDAwQEBAMEAwQDAQMCBAIFBAQDAwMDAwMCBAMDAwQEBAMCBAQDBQUDAwIDAwMCAwMEAwMEAwQEAwQDBAQEBgQEAwMDAwMFAwQDBAMEBQMEAwQDAwUEAwMEAwMDAgICAgUDAwQJAwMDAwYEAwQEBAQCBAQDAwMEAwYEAwUDAwQEBAMDAwMEAwUDBAMFBAQDAwMDBQQEAwMDAwMDAwIDAgMDAgMDBQMFAwMDAwMDAgIDBAMDBAMEAwMDBQQEAwQEAwMCAgMFAgMEBAQDAwQDAwMDBgMDAwQDAwMCAwQCAwICBAIEAgQDBAMEAgMEBAMDAwQDBAMDAwMDAwMEAwQDAwEEAwQEAwMDBAQDBAQDAwIEBAMDAQUEBAMEAgMEAgQDAwMCBAMCBQMDBAUEAwMEAgMDBAIEAwIEAQQDAgMDAwMDAwIEBAMDAwMDAgQCAwQDAwQDAwMDAwQDAwMDAwQEBAUDAgMEBQQEBQMEBAQDAwMEBAMEAgQDAwMEAwMEAwQDAwMEAwIDAgQDAwQEBAMEAwMDAgQCAwMDBAIDAgMDBAMDAgIEBQUFAwICAgIDAgQEAwQEAwMDBQQCAwMDAwQDBgMEAwMDAwMFAwQFAwMDAwMGAwICBAQEBAMDBAQDAgMEAwIEAwMDAwQDBAQDBAQEAwQEAwMEBAQDBAYCBAQEBAMDAwIDAgEDBAYDAwYDAwMEBAQDAwQEAgMDBAUEBAQEAwQDBAQCBAIDBAIDBAQEAwMDBQUEAgQEBgIEBAUDAwIEAgMDBAMEAwcDAwMEBAMCAwQEBAMEBAQEBAIDAwMDAwMCBQMEAgMDAgMDAwQDAwQDBAUHBAUDAwMDBQIEAwMDAgQDAwQDBQMDBQMEAwQDAwQFAwQDAwMDAwMDBAMDBAMDAgMDBQIFAgQDAwQEBAMEAwMEBAMDBQQCAwMBAwQDAgMDBQQDBQMCBAMDAwMCBQMEAwUDBAMFBAQDBAIDBAcABQIDAwMEBAIFBAUDBAMEBAQEAwMEAQMCAwMDBAMCAwMCBQMEAwMEBQMDAwIDBAUCBAQFAwQFBQMDAwQEAwIFBAQDBAQDBAQEBAMEAgQEAwQDBQQCBAMCAgIDBAUEAwMDBAQEAwMDAwMEBAUEAwMEAwMDBAQDBQMDAwMDAwIEAwMDAwUFBAMFAwQDAgQDAgQFAwMDBAMDAwICAwQEBAMDBAMDBAMDBAMDAwMDBAMCBQMDAgQEBgQDAwMEBAMEBAQDBAQEAgMDAwMEAwMDAwQDAwMDAgQDBAMEAwMCAwIDBAMCBAIDBAMEAwQDBAUDAwQEBAMDAgMEBAIEBAICAwQEAwMEAwQFBAUFBAMBBQIGBAQDBAUDBAMDBAQEBAQDBQUDAwMDBgMEAwQGBAMBAwQDAwMDAwMDBAMDAwQDAwIEBAQCBAMDAwQDAwMDAwMFAwMCBAQEAwQGBAMEBAMDAwQCBAQEBQMDAgMCBQIDAwMDAwMDBAMFAwQDAwMCBAUDBQMDBAMDBQUDAwMEBAQEAwMDAwMEBAUFAwMDAwMDAgMFAwQDBAQEAgMDAwQDBAIEBAMCBAUCBAQDBAQDAwMDBAMEBAIDAwYEBQQDAwQEBAQDBAMDAgMCBAQDBQUDAwMEBAMEAwMEBAMEAwQDAwMDAwIEAwQDBAQBBAICAwMDAwYEAwUDAwMDAgMDBAQDAwQDAgQGAwQEBAIEAwQEAwMDBAQDBAQCBQQDAgQDAwMFBAYDBAQDAgMEBQYFAwMDBQQEBQMDBAYCAgQDBAMDAwMEAwQDBAMEAwMEBAMEAwQDBQMDAwQEBQIEAwQCAgMDAwMEAwQEAwMEAgUEAgQEAwMGAwQEAwMDAwMCAwQEAwUDAwMEAwMDAwMEAwMEBAMEAgMDAwMDAwQEBAQFBAQEAwQEAwMDAgQEAgMEAwMDAwMCAgQBAwUCAwMDBQMDBAQBAwMDAgMCAwMDAgIDBAQEAwQEAwQEAwMCBAQEAwMDAwUFAgUDBAQCAwMEAgMCAwMCBAQDAwQDBQIEAwMFBQQFAgIDBAQDBAMDAgQDBQQCAwUEAwMDBAQDBAMFBAQFBAMDBQQEAwMDBAMCAwQDAwQDAwMEAgQDAwUFAwQDBAIEAwMDBQMDAwMDBAMDAwUDAwQEBAMEAgMDAwQDAwIDAwMFAgQCAwMEBAQFBQECBAQCAgMDBAQEBAMFBAQEBAQEAwQFAwQDBAQEAwMDBQIEAgUDAgMDAwMEAwMEAwMDBAQEAwIDAwMDBAMEBAMCAwQDAwICAgQFAwMEBAMEAQMDAgQDBQMDAwMEAwQEBAMEBAQDAwMEAgMDAwUDAgMEAwMCAwMDAgQDAgMEAwQDBQICBAIDBAEEAgYDAwQEAwMDAwQCBAQDBAMDBAMDAwMEAwMDAgQDBAMCBQQDAgMEAgMEBAIDBAMDAwQDAwIEAgMEAwIDAwQCAwQEBAQEBAQCAwQDAwQDBAMDBAIEBAMCAwUDAwMEBAMDAwMEAwMEAwIDAgMCAwQEAgUEAwUDAwQDBAUEBAQDBAICAwUEBAMEBQQDAgQDBAMEBAIDBAUDBAQEAgQEBAQCBAQDAgMFAwMEAwIDBAQCAwMEAwQDBQQCBQUEBAMGBAkEBAIDAgMBAwMDBAMDBAQDBAMDAwMDAgQEAQMEAgUEAwMDBQIEAwQDAQQEBAMDBQIDBAQDAwMDBAMDAwIDAgQDAgQEAwQDAgMEBgMDAwQEAwMDBAQDBAMEAwIDBAMDCAMDBAQEAwQDBAQCBAMEBQMEAgMEBAQFAgQEAgMDAwQEAgQDBAMEAgMEAwMDBAMEAgMDAwMEAwMDBAQFBAUFAgUDAwIDBAMDBQIEBAIDBAMFAgUCBAQCBQMDBAUEAwMDBAMDAwQEAwIDBAYDAgQDAwQEBAQDBQMDAwMDAwQEAwMDBgMDAgMCBAMEBAMEAwQDBAQFBQMDAgMEAwMDAwQCAwMEAwMDBQQDAwMEAgIEAwQDAwMEAgQDBAQEAwQCAwIDAwQEAgMFBQUEAwQGAwIDBAQFAgUEAgMFBAIEAgMCAwMEAgMDBQMCAgMDAwMDAwUDAwMCBAQEBAQEBAMFAwMEAwMDBAMFBQMDAwMDAwQDAgQEAwQDAwQDBAIEAwQCAwMCBQMDBQMFAwMDAwQDAwQEBAUDAgQEBAQDBAUDAgQCAwQCBAQEAwMDBAMDAwMDBAYEBAMEAwMDAgQEAwQDBAMDAgUCAgUDBAMDAwMDAwMEBQQDBAMEAwMDBAMDBAQDAwMCAwQDBAEEAwQCAwQEAwQFAwQDAgMDBQUDAwQDAwIDAgMDAwQEAwMDAwQCBAMEBAMDBAQEBQMEAwQDAwIEBAQEAwMDBAMEAwQDAwMGBAQDBQIEAwMEBAQEAgMDBAQFAgMDBAMDAgUDBAMCBAMCAgQDBAQFAwMCBQQDBQQDAwQDAwMDAwQDAwIDAwMEBAQCAwQEAgQCBQMEBAIEAwQEBAQDAwQCAgQEBAMDBAQDBAQDAwIDBAMDBAMEAgUDAwMDAwMEAgIDBAQEBAYDBAQDAwQDAgMEBAUFBQMEAwYFAwQBAwIEAwQEAwMDAwMDAwUEBQMEBAMDAwQCAwMDAwIDAwIBAwQDAwUDBAICAwMDAwMCBAQDBAQEAwMEAwIEAgUDAwMEAwQDAwIEAwQDBAQDAwMCAgYEAwIEAwUEAwMDBgQEAgMCAwMDAwIDAwUDBAMEAwMDAwMCBAMDBAMDAwQDBAMEAwMEBAQEAwUCBAMEAgIDAgMDAwMEBQMCBAMCAwMDBAMCBAMDAwMDBAMDAwQCBQQEAgMFAwMDAwMDAwQEAgQEBQQDBAQDBAMDAwMDAwMDAgQDAwUDAwADAwMCAwQEBAQCBAQDBAMDBAMDAwQDAQMFAwQCBwQFAwMDAwIEAgMEBQMDBAMDAwIDAgMEAwQEAwMDBAMDBAQEBAMDBAUEBAMDBAQEAwIDBQMDBAQDAwUGBQIDAwMDAwMCAwMDAwUEBAIDAgQCAwIDAwQDAwMDBAIEBAMGAwQDAgQCAwMFAwQCAwMCBAMDBQUCAwQDBAQEAwIDBgIDAwQEBAMCBAQFAwMDAgQDAgQDAwQEAwMDBAIEBAMDAwQFAwMDBQMDBwMEAwMCAgMDBAMEBAMEBQUCBAQDBAIDBAQEAgQEBAQEBAQCAwQDBQQEAwQFBQQDBQUEAwQDAgIEAwMEAwYEBAIDAwQDBAEDAwMDAwQDBAQDBAIDAwMDAwIGAwMEAgQDAgQDAwMEAwIEBAQFAwIDBAQEBAMEAwIEBAQDAwQEBAMCBAMFBAQCAwIDAwUCAwMCAwUEAwMEBQQEBAMEAwIDBQQEAwMFBAMEBQMDAwMEAwMDBAMEAgYDAwEDAwMDAwMDBAIDAwQDAwQEBAQEAwIEAwQDAwMDBAQDBAMEAwMEBAIGBAQDBQIDAwQDBAMEAgMEAwQFBAMFBAMDBAMDAwMDBAMDAwQDAwMDBAQDBAQDBQIDBAQFBAMEBAQEAwMDAwMDAwMDBAMEBAMDAgQCAwIEBAUFAgMCAwUCBQQDBAMEAwQDAwMDAwMEAwMCAgMDBAMFAgMEBAQCAgMDBAQDBAUFAwIDBAMCAgMEAwMEAwQDAwIDBAMDBQQDBAMEAwQDBAMDAgQEBAQEBQMEAwQDBAMCAwQEBQQDAwMDBAMEAwMDBAIDBAMDBAMCAwMDAwIBAgMDAwMCBQIDAwMEBAMDAgEDBgMEAwMDBAIEBQIEBQYEAwQEAwMDAwMDAwUDAwMDBgUCAwMDBAUDBAMDBAYCAwQDBAMDAwQEAwUDAwQEAwIDAwMDAwQEAwIEBQMFAwICAgQCAwMDAwYFAQQDAwIEBAIEAwIDAwQFAwMEAwIEAwMDAwMEAwMCAwIDAwQCAgMDBAQEAgMEAwIDAwQEAQMCAwMEAgIEAgQCBQQDAgMDBQMEBAQEBAMDAgQDAwQFAwIDAwQEBQMDBAICBQMEAgQDBAQDBAMDAwUEBAQDBAQEBAIGBAQDAwMGAgMCBAIEAgMDBAIDAwIDAwQEAwQDBAMCAwIEBAMCAwMEBAMEBQMEAwUCAwIDBAMDAwMDAwMDAwMGAwMEAwQEBAMDBAMFAgQDAwMEAwQCBAMDBgQEAwIDAwMDAwQDAwMCAwMBAwQEAwMEBAMDAgMEAwQEAwMCAwMFAgICBAQDAgQEAgMCBAIEBAQCAwMDAQMEBAMCAwIDAwMEAwMDBQMEAwQEAgUDBAMEBAQEBAQEBAICAwQFAwMDBAICBQMCAwMDAwUDBQMEBAQFAwQCAwMCAwQEAwMFAgMDAgQCBAMDAwMEBAQEBAEEBAMDBAIEBAMCAgUDAwMDAwQDAgQEAgMCAgMCBgQDAwIEBAIDAwIHAgUDAgMDBAMDAwIFAQMCAwMDBQUCAwMDAgQCBAMDAwYDAwQCAwMDBAICAgMBBAMDAgQCAwMEBAMEBAMEAgUDAgMDAwMFAgQCAwMEAwMGAwQDBQMDAgMEAwMDAgIBBAMEAwMFAgUDBQUDAwMCBAMDBgQEBAMEAwMFAwQEBQMDAgIFAwMEAgQDAgMEBAIDAQMDAgYDAwMDAgUDAwMDAwMGAwQCAgIDBAMCAgMDBAMEAwQEBQMDAwMDAwUDAwQDAgUCAwMEBAMDAwMDAwMCAgMEBAQCBAQEAwMDBQMDAwMDAgUDAwQEAwIEAwMDAgQCAgQDAwQDAwQDBAMDBQMFAgIDAwIEAwQDAwMDBgMDAwMDAwQDBAIDAwIEAwQDAwMEAwQEBAMDAwQDBAQDBQQEBQQDAwUDBAMEBAIDAwMCAgMFAwMDAwQDAQQDAwMDBQMFBAMDAgIDAwIEAwMDAgMDAwMDAwQEAwMABAQEAwQEAAMDBQMFAwMDBAQCBAMEAwMEAgQDAwMDAgMDBAIEBAUHAwQCAgUCAwQDAwQDAwQDAQECAwMEBAMEAwMDBAQJAwQDBQQDAgQEBAQDAwMDAwMDBAQDBQIDBAMEAwQEAgQEBAQDAgMEAwMDBAQEBQMEAgMDAwQBBAIEAwQCAwQCAwICBAMDAwUEAQMFAgECBQMDBQcDAwICAgQDAwQDAwUDAgUEAwMEAgMDAwMEBAIDAwIDAgMEAwMDAwMDAwUDBAIFAwIDBAMDAwMDAwQDAwMDAwYEBAQDBAMCAwMEAwQEAwQCBAIDBAIDAgQFAwQDAgQDBgMEAwMDBAIBBAQDBAMDAwQDAwMCBAMDAwMDAwQDBAICCwQDAwMCBQUDAgQCAgIEAwMDAgMEBAQCBAQEAwMCAwMDAwMEAwMCBAQCBAEEAwMDBAIEBAMDAwQFAQQFBAMFAwMCAgMDBAMDBAMCBAQDBAIFBQQEAwMCAwQDAwMDAwMDAwQDBQIEBQIDBAQDAwMCAwQEBAMDAgIDAwQDAwMDAwIDBAUDBQIEBAMDAwMDBAMEBAQEBQUDBAUDBAMDAwYDAwMDAwMCAwMFAwMEBAMDAwMEAwMDAwQEAwQEBAICAwMDAwQDBAQDAQIEAgUDBAQDAwMGAwQDAwMDAwMEAwMCAgQFAwMCBAIEBAMDAwMDAwMDAwMDAwMDAwQCAwMDBAMFBQQEAwMDBQMFAwMEBAMDBQMDBAIDAwMFAwEDAwMDAwUFBAQCBAMEAgUEAwUDAwIEAwQDBQQDBAQCBQUDBAMDAwYIBAMDBAIDBAMEAwMEAwQCAwMEBgMDBAQEBAMDBAUDAwIEAwIDBgYFBQIEAwMDAwMDBAMEBQUBBwUDBAMEAwQEBQUDAwIFBgMEAwMEBAQDBAQEAwMEAwMDAgMEBAMDBAQCAwMEAgQEAgQCAwQCBAMDAgQBAgQDAwUDAwMDAwUDAwMDAgMDBAMDBAMEAwQDAwQFBAMDAwQEAwUEAwQEAwMEAgQEAgQDAgQEAwYEAwMEAgQGAwUCBAMDAwQEBAMCBQMDAwQBBAYCAgMDAgIDBAIDBAMCAgMDAwIDAgMCBQMEBQQEAwQEAwMEBQQDAwQCAwMDBAIDAgQDBAQFAwQEBAQDBAIDBAMCAgIDAwICBgQCBAMDBAQCBAMCBAQEAwMEAwMFAgIDAwQDAwMEBQICAwQDBAMEAgMDAwIDAwMEBAMDBAIDBAMDBAMDAwEDBAQFBAMDBQQDAwQCAwMFAwMEBAMEAgQCBQMFAwMDAwMDBAQCAgMCAwMEAwMIBAQCAwEEBQQDAwIEBAIDBAQDAgIEBQMDAwMCAwMDAgMEBAQEBQUCAwQEAgMDBAMEBgIEBAQCAgQEAwMEBAMEAwUBBQQCAwMEBAIDBAMEBAQDAwMDBAQEBQQDBAQBBAMCAgMEBQUFAgUCAwMCBAMBAwIDAwMCAwMFBAMCAwYEAwMDAgMDBAMFAwIDBAQCBAMDAwIEAwUEBAQDAwMDBQYCAwYDAwQDBAQDBAMCAwQDBAQEAwMDAwMDBAMCAwMCAwMEBAIDAwICBAUEBAMEBAMHAwQDAwQDBAQDBAMDAwIDBAQEAgMEBQMCAwUDBAQDAwQDBAMEAwIDAgUCAgUDBAIDAwQDBAMDBAMEAgMDBgYEBAMEAwQDAwQDBwMCAwMEBQMDBAMDAwMEAwMEAwIDBAMEBAMEAwMDAwMDAwMDAwQDBAMAAwMGAwQDAwMDAwMGBAMEAwIDAwMCAwQDBAMDAwUDAwMEBAQDBAQGBAQDBAMEAwEBAgQEBAQEAwMDAgICBQQEAwQEBgMEBAQDAgUCBAMEBAIABQMDBAUDBAQDAwMCAwMDAwIDBAQDAwMDBAIEAgIEAgMDAQMCAwMDBAQDAwMFBAMDBQMCAwQEBAQDBQIFAwMCBAMDBAQDAgQCBAMDAwQEAwQEAwMFBgUDAwIEBgQEBAMEAwMDBQEDAgMDAwQDAwMDBAUDBAECAwMEAwQEBAMCAwQDAwQFBQQEAwMDBAQCAwQDAwQFAwQDBAIEBAMEAgMDBAMFBgIDBQMDAwQGBAMDAwQDAwQEBAQDBQQEAgMEAgMCAgMEBAQCAwIDBAMCBAQEAwMDAgQDAwMEBAIDAwQDAwMEAwUDAwQFAgMEAwQDBAMDAgQEAwUCAgMEAgIEAwQDAwMDBAQFBAMDAwMEBQMDBAQEAwQDAwQDAwICBAMDAQMEAwMDBAMDAwQDAwIDBAMFBAQDBAMFAgMEAwQCBAQCBAMEBAMDBAQFAwMEAwMDBAMEBAMDBAUFAwMEAwIDAwQCBAMEAwYEAgQEAgMEAgQEBAQEAwMDAwMEBQMDAwIDAwMEAwIEAwQDAwQDAwIFAwMCAgQDAwMDAwMDBQQEAwQDBAMEAwMEBwQFBAMEBAUFBAQEAgMFBAMEAwMEAgIDAgIDBAIEAwIEBAQEAwMCAwUDAwQEBAQDAwMEAwMDBAMCAwQEBAQEBAUCBAIEBQMEAwQCAwQDAwMFAwUDAwMEAwQEAwIDAwIDAgMFBQMFAwQEBQMDAwQEAQMEAwMEAgQDBAIDAwMDAwMEBAQFBQUCAwIDBAQDBAQDAwMFAwQCAwIDAwMDAwUEAgMEAwQEBAQDBQQDBAMCAwMDAwUDBAQDBAQDAgQDAwMDBAQEAgMFBAMCBAMCBAEBAwMFAgMCAwMDAgMCAwMEBAMEAwMDAwUDAwQCAwQEBAQDBAMDAwICAgQDAgUEAwQDAwMDAgQCBAMDBAIEAwIDBAMEAwMEAgMFBAMDBAIDBAQFBQIDBgMEBAQCAwQDAwMFAwMEAgMDBAIDBAMCBAQDBQMDAgQDAgQEAwMDAwQGAwUCAgMDAwMEBAMEBQQEBAMEBAMDAwQDAwQCAwMDBAQDAwMDBAMEAwQDBQIFAwMCAwMDAwUCBAQDBAQEAwQCBQUDAwQDAwMDAgQEAwIDBAMDBAUEBAMDAwMEAwQEBAMDAwMDAwUDAwMEBAMFAwIDAwMCAwMEAgQDAwQCAwQEAwMDBAQDBAMEBAQDAgMDBAQEAgMEAwQFAwIDAgQEAwQFAwQDAgMEBQMEBAMDAwQEBAMEAwQHAgQFAQMDAgMEAgQEAgMEAwQEAwMDAwMDAwMDBQUEAwIFBQQEBAMDAwQDBQMEBAQFBAQDAwMDAgMEAgQDAwMEAwMEAwMEAwMDAwIDAwMDAwQEBQMEAgQEAwIDBAMEAwIDBAQDAwQEAwMCAwMDBAMCAwIEAwQCAwMEAgIFAwIEAgUEBAQDAwQDAgQEAwUEAwUDAwMDBAUEAwMCAgMCBAIEAwIEAwUCAgQDAwMIAwMDBAYEAgMDAwQEAwQCBAQEBAMEBAQDBAMDBQMDBAQCBAYEAwMDAwQFAwMDAwMEAwQEAwMDBgMDBQMFAwQCAwMDBAMDAwICAgQDAwQCBAMEAwQFBAMEAwQEBAMDAwYEAgIDBAQDAgIEBAMCAgQCAwMDBAMDBAMDBAMEBAMEBAMDAwUFAwQFAwMEAgQDAwQDBAMEAwQFAwQDAgQCAwMEBAQEAwUEBAMDAwMDAwMEAwQDAwQDBgMEAwMEBAMCAwUDAwMDBAMDAwMEAwMDBAMDBAUDAwQDBgMDBAMDBAQDBAMDAwQDAwMEAwMDAwMDAwMFAwMDBAQDAwQEAwQDAwMDAwUEAwQCBAQDAwIEBAMCAgMEAwMDAwIEBAMDBAMDAwMEAwQDAgMDAwQCAgQDBAYDAwMDAwMDBQMFBQQCAgMCBQQFBAQBAwUDAgMDAwQDAwQCBAQDAgQCAwMEAwMDBAQDAwMDAgQEAgIDBAMDBQQCAwMDAgQEAwMDAwQEAwMCBAQEBAQDAwQCBAQEAwIDAwMDAwQDBAQEBAYEAgQDBAMCAwMDAQMDBAQDBAMEBAQDAwMDAwQDBAQDAwUEBAMEBAMEBAMDBAMDAgMDBAEDAgIDAwIDAwIDAwIDAwQEAwMDAwMEBQMFBgIFBAQEAgQDBAMFBAMDAwMDAwMDAwQEAwQDBAIFAgIDAwIDBAQDAwQFAgQEAwQEAwMEAgMCAwMFBAEDAwQDAQMDAwIEAwMDAwQEBAMDBAIEBQMDAwICAwMEBQMDAwMCBAMEAwQEBQMDAwQDBAQDAwMFAwMEAwQDAgMDAwMDAwIFAwQFBgMFBAIDAwQDAgQDAwMBBAMEBAMDAwQDBAQDBAUDAwQFAwQGBAQDAgQEBAQDAgUEBAIEBAIDAgMDBQMDAwQDAwMDAgIGAwMDAwMCBAMCBAMDAwEDAwMDBAQFAgMEBAIDBAUEBQEDBQMEBAUEAwIEBgQDAwIDAgQEAwQDBAICBAMDAwMEAwQCBAMDAgMEAgMCBAQDAwQEAwMDBAUEBQMDAgMGAwMDAQQDBgMCAwQEBQMDAwQEAgMEBAUCBAMDBQYFAgUEAwUEAwIDAwMDAwMDAwQDAgQDBAQDAwMEAwQDAgUEBAQCAgMCBAQFAwMEAwIEAwUDAwQDAwIDAwMEAwIEBAMEAwMEBAMFBAMDBAUEAwQEBAMEBAQDAwMDAwMEAgMDAwMDBAMCAgQEBAMFBAQEAwMDBAQDBQMDAgIDAgQEBAUCBAQDAwMGAgQDAgQFBAQFAwMEBAQEAgQEAwQBAwMEAwMFBQQCAwIEBAMEBAMEAwQEAwUEAwQEAwQCBQQFBAMCBAMDAwQEAwMEAgQDBAQEBAQFAwIGAwQEAwQDBQQDAgUDBAMDAgMCBAUEBAQDAwMEAwMCBAIEBAMDAwQHAwMDAwMDAwQDAwMDAwMDBAICBAQDAwMEBAQDAwIDBAMDAwMFAgQDBAIDAwMDBAMEBAUEAgMDAwMDAQQDBAMEAgMFAwQEBAQDAwMCAgQEBAQDBAUCAgMFAwIDAwMDAwMDAwQDAgMDBgMDBAMEBQMEBAIDAwQDAQUEAwMEAwQEBQQDAwQEAgQDBAQFAgMDAwMDBAMCAgQCAwMDAwMEBAMDAwMDAwQDAwMEBAUEAwMEAwMDBAQDAwMDAwUEBQMDAwEBBAQEAwIDAgQDBAQDBAIDBQQDBAQDAwIDAwQEBAMEAwMDAwQCAgMDAwMDAwMEBAQDAwMEAwMDBAQEBAMDBQQEBQMDAwQDBAUEAwUEBAMEAwIEAgMDAwUDAwQCBAIEAwQDAwMEBQYBAwMFBAQCAwQDBAICAwQEAwQFAgMDAwMEAwQGBgMDAwQCBAMEAwQEBQUDAwQDAgQDAwMCAwQEAwMEBAUDAgMGBAQDAwQCAwMDAgMFBAMDAgQCBAMEAwMEBAMDAwIDAgMCAwQFBAQEBAIDAQEDAwMFBAMDAwMDBQMDAwUDAwQEAwQDAwMDBAMEBAIEAwMEAgIFAwQEBgIFBAIDAgQEBQQDAwQDAwQDAwMDAwUEAwEDAwUEAgMEBAMDBQIEBAMDAwQEAwMDBQMEAwQDAwIFAgMEAwUDBAQDAwMDAwIEAwMDAgQEAwQDAwMEAwIDAgIDBAMCAgMDAwMEAgMDBAQEBAICBAQDAQQDBAMDAwQBAgQCAgQFAwUCAgUDBAQFBAQDBAMCAwMDAwQHAwQHBQMCAwMEAwIDBAMEAwMEAwMCBAQEAwUEAgMDAwQEAwMEAgMDAwQEBQIEBAMAAgQDBAMDBAQCAwQEAwQDBAMCAwIDBAQDAwQDAwUEAwIEAwMEAwQEAwQDBAMDAwMCAwIEBAUCAwICBAQFBQIDAwQEAwUDAgMDBAQDBAQCAwQCBAIDBAUEAwMDBQQEAwQDBAMEBAMDBAIEAwMDAwQEBwIEBAEEBAMEBAMCBwQEAgMEAwQDBAIDBAMCAwMDBAMBBAQEAwUCAgIEAgMEBQQDAwMDBQMGAwQDAgIBAwQEBAQBBAMDAwIBAwMDAwMDAwQDBAMDAgMFBAQEAwMDAwQEAwQDAgMDAwMCAgUGBAMEAwQDAwMDAwQECAMDAgMDBQIFAgUCAwMDBAMEAwIEBAYDBAIEBQUEAwQDBQMDAwMEBAQDBAMDAwMCAwIDBAQDAgQEBAUDAwIDBAQDAwMEAwMDAwQCBAQDAwMDBAMEAwUDAwQEAgUDAgQCBQQDAwUDAwIDBAMDAwQDBQMEBAMDBAMCAwMEAwMDBAUCAgQDAwMDBAQDAwMDAwMCBAMDBAIDAwMDBAQDAgMCAgMEBQQEBAMFAgMEBAEDAwUEAwMFBQQDBAQEAwIEBAMDAwMDBAMCBQMDBAUEAwQDAwMCBAMEAwMEAgQDAwMDAwMEBAMDBQICBAMEBgcDAwUEAwUCAwIEBAMEBAQCAwQEBAMEBQIDBAMGAwQDBAQDBQQFAwICBAMEAgMDAwMDAwMDBAQDAwMDAwMFAwQEAwMEAwQCBAQEBAMFBAIEBAQCBAMEAgMCAgQDAwQDAwMFAwUDBAMCAwQEBAQDAwIDBQQEAwMEAgIDAgMDBAMDBAMDBQMDBAUEAwMDAwIFAwMDAwQDAgMEAwMEBAQDAwMEAgIEAgMEAwMDAwMDBAQEAwMEBAQDAwUEAgQDAwICBAIDCgMEAgQFAwMDAgQDAwMEAQIDAwMDAwMDAwMDAwMDAwQDBAMCBAMDAwMEAgQDBAMDAwMDAgQEAwIDBAIDAwMDBgQDAwIDAwMEAwMDBAMDAwIDAwQEAwQEAwQEAwMEBAQDAgUEAgMEBAMEAgMEAgMEBQMEAwMDAgMEAwUCBAMDAwMEAgMCAwQEBAIEAwQDBgQDBgQEAwQEAwUEAwQDAwQDAgQDAwIEAwIEAgIDAwQDBAMDBAQEAwQGAwIEAwQDBAMCBAMEBAMDBAMFAgQEAQQDBAUDAgIDBAUDBAMDBAMDAwIEAwQEAwUCBAQDAwUDAwMDAwMDAwMDAwMDBAMDBAMDAwQEAgQEAwEDBAUEAwMDBAUDAwICAwQDBAMDAgQEBAQCBQMEAwUEAwQCAwQEBAMDAgIEAwMEAwIDBAQCAgIDBAMEAwQEBQMDAwYEAgQDBAMDBAMCBAMDAwICAwMEBQQDBAUDAwQDBQQCAwQDAQUDBQQEBQQDAwQCAwQDAwMCBAMFAwQEBAIDAwICAwQDBAMEBAQFAwUEBAMEBQMCAwMDBAQCAwIDBQUDBAMDBAMDBQIEBAMDBAMDAwMDAwMDAwMEAgMEAwIDAwUEBAQCAwQEAwIFAwQGAgQDBQIDAwMEAgMDAgMDBAIDBAMDAwMCAwQEAwQDAwMEAgMDAwMCBAMFBAUCBAQDAgMCAwQDAwUDAwMEAwEEAwMEBgMDBQMDBAQDAwUDAwQEAwQDBAQDBQYDAwUDAwMEAwMDAwQEAwMDAgQDBAMDBAMDAwMEAwQDBAMCAwMFAwQEAwMDAwMFAwIEAwMFBQMDAwMEAgMEAwUDAgMDAwIFBAMEAgQEBAQDAwMDBAYEBQMDBAQDAwICAwMEAgQEBAQCBAMEAwMDAwMFAgUDAwIEAgQDAgQCAgIEBAMCAgMDAwMEBAIDAwQDBAMDAwICAgMCAwMDBAMDAwMHAwQEBAQDBAIEBAMCBQQCAwMDAwQCBAMCAQIDAwMEAwQEBQUDAwQDBQQDBAMDAwQEBAQDBAUDAwQCAwIEAgQEAwIGAwIEAgMEAgMDBQMCAwMEAgICAgMEBQMDAwIDAgMDBQQCAgQDBAMDBAQEAwIEAwQEAwQFBAQCAwMEAwMCBAUDAwUDAwUEBQQDBAMDAwMDAwMDBAICBAMCBAMBAwMCAgMDBAMEBQMEAwMHAwMEBQQEBAIDBAMCAwUFAwMEBQUDBAQCBAUDAwUEBQQDAwQDBAMEAgUDAwQDBAMEAgMDBAQGAwMEAwMEBAMEAwQEAgMDAwMDAwUDAwMDAwMDAwIDBgMEBAQEAgMDAwQEAwMDBAMEAgMCAwMDAwMEAwQDAwICAgQEBQIFAgMDAwQEAwQDBAMFBAMDAwQEBAQBAwQDAwUDBAEEAgUDAwMEBAQDAwMBAQMDAwMDAgIDAgMDAwMCBAIEAwEEAwQDAwMDAgMEAwUDAwQFBAMDBgQCBAQCBAQDAgMDAwQDAwMAAwMDAwQDBAMDAwQCBAMCAwIDBAIFBAIDAwQBAwMDAgUEAwMDBAQDBQIEAQQEBAUCAgIDAwMDAwUDAwIEAwMCAwICBAQCBAMDBQMCAwIDBQUEBQUEAwIDBAIGBAIDAwMDBAMCAgQDAwMFBAMDAwMEBAMDAwIDBAQDBAMDBAMEAwQDBQQDBQMDBAQDAwQEBQIDAwMEBAIDAwMEAwMDBAIDAwMEAgMDBAQCBAMFAwQDAwIDBAMCBAQDBAQDBAMDAwQDBAIDAwQDBAMDAwMDAwQEAgQDBQQEAwYCAwQEBAMDAwUDBAQEBAQFAwQDBAMEBAYDBAMDAwMEAwMDAwUDAwQCAwMFAgMDBAMDBAIDAwMEAwIDBAIDBAMCBQMEBgUDAwMDBAQDBQQDAwQEAwIEBAMCBAIDAwQEAgUEAgICAwQCBAQDBAIEAwIDBAUEBAQDAwQDAwQDAwUDAwICAwICBAIEBAMEBAMEAwUCAwIDAwQDBAMDBAMCAwQDAwIDBQMDAwMDBAQDBAMDAwMFBAMEAgQDAwMDAgIDAwQDAwIDAwMFBQMEAwUEAwIFBQQCAgQCAwMDAwMBBQMDAwQEBgQDBAMDAwUDBAQEBAMDBAQEAwIDBQMDBQMEAgMFAwMEBAQDAgUDAwMDAwMEAwQDBAMHBAIFAwMDBAQDBAMDAwQEAgQDAgIDAgQEBQIDAwQEBAMDBAMEAgUDBQMCBAQEBAQEAgMEAwMEAwQFAwMEAgMDBAUDAwMFBAMGAwQDBAQEBAUEBAMCAgMDAgMEAwMDBAQFBAQEBAMDAwQCAgcEBAMCAwMDAwQDBAIDAwMDAwIDBAMCBAQEAwQEBgQDAwQEAwMDBQUDBAQDBAQDBAgDBAUEBAQFAwUDAwMDAwQFAgMDAwIEBAQEAgMEAwMEBAQDAwMDBAQDAwMDBAYEAwMDAwQEAgMEAwIEBAQDBAIGAwUCAwMDBAMFAwIDAwMFBAMEAwQDAwMEAwQKAgQDAwQDAQUDBAMDAgICAwUDBAMDAgMFBAQDAwIEBAMDAwMEBAMDAwQDBAICBAMEAwMCBAMCBAIEAwQDBgIEBAMEAwQDAgMEAwMDAwQCBAMEBAMDBwMBAwMEBAQEBAMDBQQDAwQEBQIEAwMDAgQDAwMEBAQEBAMDAwUDBAQCAwMDAwICBAMDAwMDAwUEAwMFBAMCAgMDAwQDBQMDAwQDAwMCBQMEBAUCBAMEBQMEAwICBAQDAwMDBAMEBAQGAgQEAwMEBAIDBAQDAwMDAwQDBAQCAwMDBAQEAwMEAQUEAwMEAwMFAgQDAwQDBAYEAwMDAwIEBAMEBAIDAwMFAwMDAwIEBAQEAwIDBAMEAwQDBAQEAgQDBAIEBAQEBAQEAgQEAwQCAgMDAgIDBAUDAgMCBAQEAgIDAgMEAwIEAwQDBAMEBAQDBAQDBAIDAwYEBAMEAgMCBAMEAwQDBAMCBAMFAgMEAgQEAgQHBAIDBAQDAwQEAwQDAwQCAwMDAgQEAwQDAwMEBAQFAgQDAwMDAwUFBAQDAwMDAwMDBAQDBAYEAwMEBAQEAwQDBQQFAgMDBAUEBQMEAwUEBAMFAwMCBAMDAwMEAwIEAgMGBAMCAwQDAwUFBAQEAwQEBAUDBQQDBAIEAwIEAwQDAwQDAwQDBAMFBQMDBAQDAwMDBAQFAggDBAMDAwMDAwQDAwIEBAMFAwQDAgUDAwQDAwMFAwMDBAQEAwMDAwMCAwIDAwMCAwMEBAQFBAQDBAYEBAMEBAQDAwQCAwMDAwMEAwQDAwQDAwcDBAQEAwIEBAQDAgUDBQQEBAMDAwUEBQMCAgMEBAMDBAQEBAMDAgMCAwYDBAQEBAQCBAQCAwMBBAQEBQUEBAMDAgQEAwQEAwMFBAMEBAMDBAQDBAQEBAIDBAYDBAMDAgQFBAQDAwIDAwMEAwIDAwMCAgMDAQQDIQMCBAMCAgQDAwIDBAMEBAIDBAQFAwQEAgYDBAMDAwMEAwQEBAMDAwMDBAMCBQQEBAMCAgMEAwMDAwIDAwMEAwMDAwMDAwMEBAMEBAQEBQIDAwMDAwIEAwQCBAMEBQQDBAQDAwQFAwMEAwMFBAIDAwQDAwICBQMDAwMEBAUDAgMCBAMDBAQFAwMDAwQEAwMDAwMGBAUDBAMEAwIEBQMDBAMEAwIDAwQDBQMCAwMEBQIDAwMDAwMDBAMEAwMEBQMDAwQEBAIDBQQDBAMDBAIDAwQEAgQDAwMDAgMGBAMEBAQDBQUDBAQDBAQDBAQCBAMEAwQCBAMDBAIEAwUEAwMEAwQEBAUDBQIDAwQDBAMCAwUDAwQDAwUDAwMDAwIEBAIFBQMCAwMDBAIEBAMEAwQEAwUFAwMEAwMDAgQFAwMEAwMDAgMEAwQFBAIDBAIDAwMEBAQEAwMEAwUDAwMCAwMDBAMFAwIEAwMFBAQDBAMEAwIEBAQEBAMFAwMEAwQEAwMFAwMDBAQCBAMEAwMFBAQEAgQDBAICBAQDAgMEBAQDAgQDAwMDBAMEAwUDAwQGBAQDBAMEBAMDAwQFAwIHAwMDBAMCAwMDAwQEAwQDAwQEAwIEBAMDAwICBQMEBAUDAwMEAwIEAwMDAwIGBAQDBAIEAwIEAwIDAwQDBQIEBAMDAwEDAwIDBAQEBAUCAwQDAwMCAwMEAwUDAwMEAwQCBAUFBAUEBAMEAwIEBQQCAQQEAwQGAwQDAwMDAgMFBAMDAgMEBAMEBAQEAwQEAgMDAwQCAwMCBAQEAgMCBAMFBAMDBAUDAwMDAgQEAgMDBQMCAwQEAwQEAwMCAgICAwIEAwIEAgIEAwMEBAQDAgQDAwIDBQQDBAMEAQQDAwMEAgICAwQDBAQEAwMDAwUDAgMEBgICBAQDBQIDBAMDAwMEAwQEAwMCBAQDAwUFAwQDAwQDBAQCBAQDBgQDAwQEBAMDAgIDBAMFAgQDBAMDBQUEBQQCAwMDBAUFAwQCBQMFAwMDBAUDAgMDAwMDAwMDBAMDAgMEBAMDBAMDAwIDAgMDAgQDBAQEBQUEAgMDAwIDAQQEBAQDAwQEBAMDAwMDBAMDBAMEBQQCBAQCAgMDAwMEBAIEAwQEAwYEBAIDAwUDBAUCAwMEBAMHBQMDAwQEAwIDBAUCBAQCAwMDBAMDAwQEAwQDBAMDAwMDAwUDBQMCAwIEBAMCAwIDAwQDAwMEAwMEAwMDAwQEAwIEBgQEAwIEBAQCBAQCAgMEAwIDAwUFAwQDBAIBBAQDAwIEBAQDBAIFAQMJBAMFAwMDBAMEBAMCAgMDBAQEAgMCAQMEBAQDAwQEAwIDBQQDAgMEAwMDAwUGAwMCAwQEBAQDBAIDBQQDAgICAwMEAgMEAwMDBAUEAwIDAwQDAwQEBQMFAgQDAgMDAwIDAwQEBAQEAwMCBAUBAwMDBAMCAwQEAwQDAwMDAwUDAwMFAwQEAwMCAwMDAwMEBAMDBAMEBQMEAwMEBAMDBAQEAwQDAgQFAwQEBQMDBQIDAwMDBAMDBAMEAgMEAwQDAgMFAwQEBAMDBAMDBAQDAwQDAwIEBAMEAwMFAwQCAwMDAwUDAwMDAwMDBAMDBAMCAgMEAwQGBAMDAgUEBAUDBAMEAgMDAwYDAwQEAwQDBQQDAwMDBAIEAwUCBAMDAwIDAgQEAwMCAwMCBAMDBAQDAwMEAwMEBAMEAgQDAgMEBAQDAgQDAwQDAwQDAwYCBAQDAwQEBAMFAwMDAwQEAwQDAwIDAwMDAwUFAwQDAwQFAwUFBAMDAwQDAwMEAwQDBAMDAwIEAwQEAgMDCAQFAgMEAwMCBAUDBAMDBQQFBAIEBAQDBAMEAwMDAwQDBAMDAwIEAwMEAwMCBQUEAgQEBQMDBAQEAwMEBAEEBAIDBAIDAgQEAwQDBAIDAwIEAwQCAgMDAwQFAwMEAwMDBAQDBAcFAwMDAwUCAwQDBAQCBQQDBAQDBQQCAwQEAwMCAwMEBAQDAwQEAwMCAwIDAwMEBAICBgMDAwMCBAMDAQQDAwMDAwQDAwMDBAUDAwMDBAQEAwMFAQMCAgQEAwIEAwMDBAMDAwIDAwMCAwQDAwMFBQIEBAQFBAMGAwQDAwQFAwMCBAMEAwQDAwUFBAMDBAUEAwIDBAMDAgQDAwMEAwIGAwQDAwMEAwIDAwMDBAMEAwIDBAMEAgQEAwICAwQCAwIEBAMCBAQDBAMFBAMEBAQEBQMDBAMEBAQCAwQDBAMDBAIDAwMEAgMCBQUDBAMEAgQCAwQBAwIDAgIDAgIEBAIEBAQDAgQDAwQCAgMFBQMDAwMEBAQEAwMDAwMDAwMDAwMCAwIDAgMDAwQEAgQCBAQDBAUDBAMCAwIDBAMEBAMDBQMDAwMDAwIDBAIFAwMDAwMDBAMDAgICBAMDBgIEAwMDBAQDBAUEAwQDAwQDBAMDAwMDAwIDBAUEAwMDAwMDAwQDAwMFAwMDAwIEAwQCAgMEAgQCAwQDAgIEAwQFAwQDBAIEAwQEAwMEBAMCBAQDBAQCAgQEBQQCAwIDBQMCAwQDAgIDAwMFAwQCAwQEAwMDBAQDBAICBAMBAwMCAgQDAwQDAwQEAwMCAwIEAwMDAwQEAwMDAwQEBAMEBAQDAgMCBAIEBAMEBAMDBAUEAwMFAwQCAwQDBQMEAQQDBAUDAwYEAwMFAgMEAgIEAgIDAwMFAwMEBgIEAgQDAwQEBAIDAQICAwQCAwMDAwMCAwQEAgMEBAIDAwMDAgQEAwMEBAUDBAQEAgMDAgMCBAMEAwQDAgQEBAMGBAUDAwIDAwMDBAUDBAMDAwQDAwQDAwMBBAQEAwQDAwIDAgUCAwIDAwMDAwUEAwMDAwMDBAMDBAMEAwMDBgMDBAUDAgQEAgQDBAQDBAIDBAQDAwIDBQMDAgIEBQECBAMEBAIBAgUDBAMEAwQDBAIDAgUEAgMCAwQEBAMDBAMDBAQDAgMCAwQDAwMEAgMFAwQCAwMDAwQDBQMEBAIDAwMEAwQEAwMDAwIDAwMDAwMEAwMDBAQEAwMDBAMFAwMDBAMEAwQGAwUEBAQDBAUBAQIDAwUBAwMDAwQCAwMEAwMGBAMEAwQDBQMDBAMCBQUCAwMFAwMCAwMFAwMEAwMEAwMDBQQDBAMDAwIDBAMDAgUEAwQDAwMDAwQDBAMCAwIDAwMDBAMDAwMDAwMDBAQGBAQCAgMFBAMCAgIEBAUBBAQEAwMDAwIDBAMEBAMFBAMCAwMCAwMCBQMFBAUEBAYBBAMCBAMEBAQDBAUDAgQDBAMDAwQDBAQDBAUDBAUCAwIFBAQDAwMDBAQDAwMFBAMEAwUEAwICBAMDBQQDBQQCAgQDBAIDAwACAwMDAwMDAwIEAwMEAwMEBAMDAwQCBAQDBAQCAwYCBAQEBAMDBAUDAwIDBAIFBAQDAwMDBAMFAwMEBAIDAwUJAgMDBAMDAwQDAgQEAwMDBAcFAwMCAwIDAgICBAMFAgMDCAIDAwIFBAQDAQMDAwMDAwIDBAMDAwMCAwMDAwQDAwIDAwQEAwQEAwMDAwQEBAMDBAMFBAQDBAQEAgQCAwMDAgMFAwMDAwIEBAQDBQMEBQQEAwICAwMEBAQDAwQEAwIDAwIEAwMCAwMDBQMEAwQDAwMDBAQDBQIEAQMCAwIFBAQCBAQDBAIEAwUDBAQEAgQEBQQEAwQEAwQCAgQEAwMCBAMCAwMDBQQEAQMEBAMEAwIFAwMGAwQCAwMDBAMEAwMEAwUDAwMDAgMFBAMDAwMDBAMDBAQCBQQEAwQEBAMDBQQEBAYGBAQDBAMDAwMDBQMDAgQEAgUEAwIDBQIDAwMEBQQCBQIFAgQDAgMEBAMFAwMDAwMDAwIDBAMDAgMDAwMDAgMDAwQDAwIDAwQFBAIDAQMFAwIDAgQFAwQDAwUDBAMEAwUFAgQDBAMEAwMDAwIDBAQEAwMDBQMDAgcEAwMDAwUEBAMCBAQDAwMEAwICAgMFBAMDBAIEAwMDAgIFAQQEBAQDBAIFBAYCAwMEAwMEAwMFBAMDBgMDAwQEAwUEAwQDBAMDAwQEAwMDAQQDBAQDAwQDBAMDAwMDBAQDBQMEAwIEAgQEAwQEAwQDBAMCAwMEAgMDBAMDAwMEBAMDAwUEBAMBAgMDAwYEBAMEAgMDAgMFBwMEAwMEAwQDBAMDAwMFAgICBAMDBAMDAwUEAgMDAgIEBAIGAwIDAwIDAwMDAwMDAwQCBAMCBAIDBAQDBAIFAwMEBAMEBAQDAwIDAwMEBAIEBAQDBAMCAwMDBgQDBAMDAwMCAwMDAgUCBAQDAgQEBQMEAwIFAgMFAwMEAgMDBAQDAgMEBQQGBAMEAwMDAgQCBAIDAwQDBAIDAwMEAgQFAwUEBAIEAwMEAwUDAwMFAwIDBAQEBQQBAwMEAwMDAwMEAwMFAgMCAwMEBAQDBAMDBAMEAgQCBQMFBAMDBAIDBAMDAwQDAwQDBAMGBQUDAgMFBQQDAwMEAwQFAwEEBAMDAwQDBQMDBAIDAwQEBAQEAwMDBAIDBQMDCgMDBQMDBAMGBAMCAgMDBAQDBAEDBAQEAwIEBAMCAwICAgMDAwMEAwMDAwQEAwMDCAMDAwMDAwMEAwMEAwQDAwQEAwIEAwMDAwcEBAQEAwMDAgIDBAIEBAMDAgMDBAMEAwQEAwMEBAUEAwQDBAQDBAMDAgMEAwMEBAQEAwQEBAMDBAMDAwQDAwQDAwQDBAQEAwMEAwUEAgMDBAMEAwMCAgIEAwEEAgQEAwQDBQMEAwMDBQQEBgQDBAICAwQEAwQCBAIDAwMDAAMCAwMDBAIDBgMDBQQFBAQEAwUDAwQFBAUEBAIDAwUEAwMDBAIEAwQDAwIDAgMDAwIFBAUEBAQFAwMEAgMFAwMCBAMDAwQDAwQEBAUEBAQDAgQEAwQDAQMCAwIDAgIEBQQDAwQEAwQEAwQDBAQEBAQDBAQGBAMEAwMCAwQDAgMEAwIEAgICAwMDBAIEAwQDAwMDAwIDBAMDAwMEAwMDBQMEAwMEAwIEBQMDAwMFBQMCBAQDAwMEBAMEBQMDAwQEAwMDBQIEAwQDBQMDBgQEAwIDAwQEAwQEAwMFBAQDAgMEBQMFAwQEBQMEBgICBAIEAwQEAwQDBQQCAgQEAwIDAwUGBAMDAgQCAwMEBAMFBAMEBQUCAwMDBAIDAwQDAwIDBAMCBAQEBAMEAgMFBAQEBQQDAwQEAwQEBAIEAwQDBQMDAwQEAwUDBAMFAwMDBAMCBAUEAgMGAwIDAwMEAwIEBAMDBAMDBAMEAwMFAwQCBQQDBAMEAwUDBAQEAwQEBAMCAwUDBQQEBAUEAwMEBQQEAwQDAwMEBAQEBAMDAwQDAwMDBAQDAgMDAwUDBAQDBAIDAwEEBAIDBQQEAwMEBAMEAwQDAwMDBAMFBAMDBAIEAwMFBAQDBAMCAwMCAwIEAwIDBAIDAwMEBAIFBQQDAwQFBAQCBAMDAwQEBQIDAwMFBAQDAwQEBAIDAwQDBAMCBAMEAwQCAgMDBAUEBAMDAwIDBQMDAgQDAwMDBQQDAgMDBQIDAgQDBAECBQMDAwMDBAMEBQIEAwQEBAMDAwIEAwMEBQQDAwMEBAQEAwMDBAMDAgMEAwMEAwMEBAMEAwQDAwMEAwQEBAQDAwQEBAIEAwQEBAQCBAMFAwQDBAQEBAQDAwMEAgMDAwMEBQIEAgMDBAQDAgQEBAMEAwQDBAIDBAMEAwMDBAQDBQMDBQMCAwQEBQIDBQIEAgUEBAMFBAQEBAQDAwQEBAMDBQMEBAMDAwQEAgMEAgUDAwQEBAQEBQICAwQEBAUEBAIEBQQDBQUEAwQDAgMDAwUEBAMFAwMDBQQEAwQDAwUCAwQEBAQCBAMDAgUDAwIEAwQEAwQFBAMEBAIEAwMDBAMCAwUCAwQEBAQEBAQEAwQEAwUEBAIDBAQDAwMCBAQDAgQDAwIEBAMDAwQEAwMEAwMDBQMDAwYDAwMEBAMDAwIDAwIEBAQFBAUEBAIDBAMCAwMDAwIEBAQDAwUEAwMEAwQEBAQCBQMDBQMFBAMEAwMDAwMDAgIDBAQGAwIFBQMFAgMDAwQDBAUCAwIEAwMEAwMEBAMDBAQEAwQEBAQEBQMCAwUFBAMEBAIFAwMEAwIDAgMEBQQDAgQDAwQDBQMCAwQEBAQEAgMEBQQDAwMDAwIDBAMDBAQEBAUEAwQCBAQCBAMDBAQEBAMEAwIDAgQDAwQDAwUCAwYCBQIEAgMEAwQCAgQDAwMEBAIDAwMDAwQDAwIDAwMEAwIFBAMEAgIEAgQEAwUDAwMCAwUCAwQEAgQDAwYDAgMDBAQEAgQDBAQDBAUDBAQDBAMEAwQDAgQEBQQEAwMCAgIDBAMCBAQDBQUDBAMFAwMDBAMFAwQEAgMEBAQDBAQDBAMEAgMFBQMDBgQDAwMDBAMEBQIDAwMEBAMEAgQEBAMCBAQFBAQDBAMDAgMEAgMDBAQDBAQEBAIDAwQCAgUEBAQDBAMEAwMDAwUDBAMDAwMEAwQEBQIEBAQDAwMFAwMDAwMCAwMCAwICBQMEBAMCAwUFBAMFBAQFBAQEBAUDAwMDBAQDAwQEAgQEAwQCBAMEBAQCAwQCAwIDAwMDBAQFAwMEAwQEAwMDAwQFAgMDAgUFBAUDAwQEBAUDAwQDAwQEBgIFBAMEAgMDBQQEAwQEAQIDBAUCAwIDAwIEBAUDAgMDAwQGBAUEBAMEAwQEAwUCBAUCBAUDBAMDBAMFBAMDAwMEBAQDAgQEBAMEAwMDAgMCAwQEAgQDAwMFBAMDAwQDBAMFAwIEBAMDAwUFBAMDAwMCAwMDAgMEBAQDAwIDBAMEBAMCAwQDBAMEAwMDAgMDBQQGAwIFBAUCAwMDAgMEAwQEAwQCAwMDAwMDBAMFAwQDAgMDAwICAwMCBQMEBAMEBAMCBQQFBAQCBQUEBAECBAMEBAQFAwUDBAQEBAMFBAMFBAUCBAMEBAMDBQQDAwQEBAMDBQQDBAYDAgQEAwQDAwMEBAQDAwQDBAUDBAIEAwICBQMDBAQDAwMFBQQEBAMFAwMEAwQEBAMDAwMCBAIDBQIEBQQFAwUFBAIDBAQEAgMDAwMDBAQDAwQDAwQEBQQEBAQDAwQEAwQDAgMDBgMDBAUCAwMEAwQDAwMDAwQCBAMEBAQEAgMDAwUDAwQDBAMDAgQDAwEEAwQDBAMFBQQEBQMEAQMEBAQEBAIDAwMEBAMEBAMFBQQEBAIEAwMEBAQFAwMEAwMCBAIEAgMDBAQDAgQEAwUEAwMCBQQDBQQDAgUEAwMDAwIEAgQDBAMEAwQCBQMEBAUDBAMBBAQDBAQBBAICBAMDAgMFBAMFAwQDBAMDAgIDBAQEBQQFAwMDBAMDAgMEBAMDBQQFBgMCAwMEAgQEAwQDAwMEAwMDAwQDBAIEBAMCAgQDBAMDBAMEAwUEAwQDAwQCAwMDBQUEBAQDAwMEBAMCBQMDAwMDBAMBAwQDAwMEBAMDAgMDAgMFAwQFAwQEBQMFBAQDBAMEBQMDBAMFAgMFAwQFBAQFAgMDAwMDBQQDAwUDBQMEAgMFAwMCAwQCBAQEAwMDAQQFBgQEBAMEAwMEAwQDAwQCBAMDBQMEAwMEAwICAwMFAQMDAwIDAwIFBQQEBQQEAwQCAwQDBAMDBQQCAwMDAwIDAwIDAgMEBAMFBAIFBAQEBQMDAwMEBAMDBAIDAg==",
          "dtype": "i1"
         },
         "yaxis": "y3"
        }
       ],
       "layout": {
        "annotations": [
         {
          "font": {
           "size": 16
          },
          "showarrow": false,
          "text": "price",
          "x": 0.14444444444444446,
          "xanchor": "center",
          "xref": "paper",
          "y": 1,
          "yanchor": "bottom",
          "yref": "paper"
         },
         {
          "font": {
           "size": 16
          },
          "showarrow": false,
          "text": "sqft_living",
          "x": 0.5,
          "xanchor": "center",
          "xref": "paper",
          "y": 1,
          "yanchor": "bottom",
          "yref": "paper"
         },
         {
          "font": {
           "size": 16
          },
          "showarrow": false,
          "text": "bedrooms",
          "x": 0.8555555555555556,
          "xanchor": "center",
          "xref": "paper",
          "y": 1,
          "yanchor": "bottom",
          "yref": "paper"
         }
        ],
        "showlegend": false,
        "template": {
         "data": {
          "bar": [
           {
            "error_x": {
             "color": "#2a3f5f"
            },
            "error_y": {
             "color": "#2a3f5f"
            },
            "marker": {
             "line": {
              "color": "#E5ECF6",
              "width": 0.5
             },
             "pattern": {
              "fillmode": "overlay",
              "size": 10,
              "solidity": 0.2
             }
            },
            "type": "bar"
           }
          ],
          "barpolar": [
           {
            "marker": {
             "line": {
              "color": "#E5ECF6",
              "width": 0.5
             },
             "pattern": {
              "fillmode": "overlay",
              "size": 10,
              "solidity": 0.2
             }
            },
            "type": "barpolar"
           }
          ],
          "carpet": [
           {
            "aaxis": {
             "endlinecolor": "#2a3f5f",
             "gridcolor": "white",
             "linecolor": "white",
             "minorgridcolor": "white",
             "startlinecolor": "#2a3f5f"
            },
            "baxis": {
             "endlinecolor": "#2a3f5f",
             "gridcolor": "white",
             "linecolor": "white",
             "minorgridcolor": "white",
             "startlinecolor": "#2a3f5f"
            },
            "type": "carpet"
           }
          ],
          "choropleth": [
           {
            "colorbar": {
             "outlinewidth": 0,
             "ticks": ""
            },
            "type": "choropleth"
           }
          ],
          "contour": [
           {
            "colorbar": {
             "outlinewidth": 0,
             "ticks": ""
            },
            "colorscale": [
             [
              0,
              "#0d0887"
             ],
             [
              0.1111111111111111,
              "#46039f"
             ],
             [
              0.2222222222222222,
              "#7201a8"
             ],
             [
              0.3333333333333333,
              "#9c179e"
             ],
             [
              0.4444444444444444,
              "#bd3786"
             ],
             [
              0.5555555555555556,
              "#d8576b"
             ],
             [
              0.6666666666666666,
              "#ed7953"
             ],
             [
              0.7777777777777778,
              "#fb9f3a"
             ],
             [
              0.8888888888888888,
              "#fdca26"
             ],
             [
              1,
              "#f0f921"
             ]
            ],
            "type": "contour"
           }
          ],
          "contourcarpet": [
           {
            "colorbar": {
             "outlinewidth": 0,
             "ticks": ""
            },
            "type": "contourcarpet"
           }
          ],
          "heatmap": [
           {
            "colorbar": {
             "outlinewidth": 0,
             "ticks": ""
            },
            "colorscale": [
             [
              0,
              "#0d0887"
             ],
             [
              0.1111111111111111,
              "#46039f"
             ],
             [
              0.2222222222222222,
              "#7201a8"
             ],
             [
              0.3333333333333333,
              "#9c179e"
             ],
             [
              0.4444444444444444,
              "#bd3786"
             ],
             [
              0.5555555555555556,
              "#d8576b"
             ],
             [
              0.6666666666666666,
              "#ed7953"
             ],
             [
              0.7777777777777778,
              "#fb9f3a"
             ],
             [
              0.8888888888888888,
              "#fdca26"
             ],
             [
              1,
              "#f0f921"
             ]
            ],
            "type": "heatmap"
           }
          ],
          "histogram": [
           {
            "marker": {
             "pattern": {
              "fillmode": "overlay",
              "size": 10,
              "solidity": 0.2
             }
            },
            "type": "histogram"
           }
          ],
          "histogram2d": [
           {
            "colorbar": {
             "outlinewidth": 0,
             "ticks": ""
            },
            "colorscale": [
             [
              0,
              "#0d0887"
             ],
             [
              0.1111111111111111,
              "#46039f"
             ],
             [
              0.2222222222222222,
              "#7201a8"
             ],
             [
              0.3333333333333333,
              "#9c179e"
             ],
             [
              0.4444444444444444,
              "#bd3786"
             ],
             [
              0.5555555555555556,
              "#d8576b"
             ],
             [
              0.6666666666666666,
              "#ed7953"
             ],
             [
              0.7777777777777778,
              "#fb9f3a"
             ],
             [
              0.8888888888888888,
              "#fdca26"
             ],
             [
              1,
              "#f0f921"
             ]
            ],
            "type": "histogram2d"
           }
          ],
          "histogram2dcontour": [
           {
            "colorbar": {
             "outlinewidth": 0,
             "ticks": ""
            },
            "colorscale": [
             [
              0,
              "#0d0887"
             ],
             [
              0.1111111111111111,
              "#46039f"
             ],
             [
              0.2222222222222222,
              "#7201a8"
             ],
             [
              0.3333333333333333,
              "#9c179e"
             ],
             [
              0.4444444444444444,
              "#bd3786"
             ],
             [
              0.5555555555555556,
              "#d8576b"
             ],
             [
              0.6666666666666666,
              "#ed7953"
             ],
             [
              0.7777777777777778,
              "#fb9f3a"
             ],
             [
              0.8888888888888888,
              "#fdca26"
             ],
             [
              1,
              "#f0f921"
             ]
            ],
            "type": "histogram2dcontour"
           }
          ],
          "mesh3d": [
           {
            "colorbar": {
             "outlinewidth": 0,
             "ticks": ""
            },
            "type": "mesh3d"
           }
          ],
          "parcoords": [
           {
            "line": {
             "colorbar": {
              "outlinewidth": 0,
              "ticks": ""
             }
            },
            "type": "parcoords"
           }
          ],
          "pie": [
           {
            "automargin": true,
            "type": "pie"
           }
          ],
          "scatter": [
           {
            "fillpattern": {
             "fillmode": "overlay",
             "size": 10,
             "solidity": 0.2
            },
            "type": "scatter"
           }
          ],
          "scatter3d": [
           {
            "line": {
             "colorbar": {
              "outlinewidth": 0,
              "ticks": ""
             }
            },
            "marker": {
             "colorbar": {
              "outlinewidth": 0,
              "ticks": ""
             }
            },
            "type": "scatter3d"
           }
          ],
          "scattercarpet": [
           {
            "marker": {
             "colorbar": {
              "outlinewidth": 0,
              "ticks": ""
             }
            },
            "type": "scattercarpet"
           }
          ],
          "scattergeo": [
           {
            "marker": {
             "colorbar": {
              "outlinewidth": 0,
              "ticks": ""
             }
            },
            "type": "scattergeo"
           }
          ],
          "scattergl": [
           {
            "marker": {
             "colorbar": {
              "outlinewidth": 0,
              "ticks": ""
             }
            },
            "type": "scattergl"
           }
          ],
          "scattermap": [
           {
            "marker": {
             "colorbar": {
              "outlinewidth": 0,
              "ticks": ""
             }
            },
            "type": "scattermap"
           }
          ],
          "scattermapbox": [
           {
            "marker": {
             "colorbar": {
              "outlinewidth": 0,
              "ticks": ""
             }
            },
            "type": "scattermapbox"
           }
          ],
          "scatterpolar": [
           {
            "marker": {
             "colorbar": {
              "outlinewidth": 0,
              "ticks": ""
             }
            },
            "type": "scatterpolar"
           }
          ],
          "scatterpolargl": [
           {
            "marker": {
             "colorbar": {
              "outlinewidth": 0,
              "ticks": ""
             }
            },
            "type": "scatterpolargl"
           }
          ],
          "scatterternary": [
           {
            "marker": {
             "colorbar": {
              "outlinewidth": 0,
              "ticks": ""
             }
            },
            "type": "scatterternary"
           }
          ],
          "surface": [
           {
            "colorbar": {
             "outlinewidth": 0,
             "ticks": ""
            },
            "colorscale": [
             [
              0,
              "#0d0887"
             ],
             [
              0.1111111111111111,
              "#46039f"
             ],
             [
              0.2222222222222222,
              "#7201a8"
             ],
             [
              0.3333333333333333,
              "#9c179e"
             ],
             [
              0.4444444444444444,
              "#bd3786"
             ],
             [
              0.5555555555555556,
              "#d8576b"
             ],
             [
              0.6666666666666666,
              "#ed7953"
             ],
             [
              0.7777777777777778,
              "#fb9f3a"
             ],
             [
              0.8888888888888888,
              "#fdca26"
             ],
             [
              1,
              "#f0f921"
             ]
            ],
            "type": "surface"
           }
          ],
          "table": [
           {
            "cells": {
             "fill": {
              "color": "#EBF0F8"
             },
             "line": {
              "color": "white"
             }
            },
            "header": {
             "fill": {
              "color": "#C8D4E3"
             },
             "line": {
              "color": "white"
             }
            },
            "type": "table"
           }
          ]
         },
         "layout": {
          "annotationdefaults": {
           "arrowcolor": "#2a3f5f",
           "arrowhead": 0,
           "arrowwidth": 1
          },
          "autotypenumbers": "strict",
          "coloraxis": {
           "colorbar": {
            "outlinewidth": 0,
            "ticks": ""
           }
          },
          "colorscale": {
           "diverging": [
            [
             0,
             "#8e0152"
            ],
            [
             0.1,
             "#c51b7d"
            ],
            [
             0.2,
             "#de77ae"
            ],
            [
             0.3,
             "#f1b6da"
            ],
            [
             0.4,
             "#fde0ef"
            ],
            [
             0.5,
             "#f7f7f7"
            ],
            [
             0.6,
             "#e6f5d0"
            ],
            [
             0.7,
             "#b8e186"
            ],
            [
             0.8,
             "#7fbc41"
            ],
            [
             0.9,
             "#4d9221"
            ],
            [
             1,
             "#276419"
            ]
           ],
           "sequential": [
            [
             0,
             "#0d0887"
            ],
            [
             0.1111111111111111,
             "#46039f"
            ],
            [
             0.2222222222222222,
             "#7201a8"
            ],
            [
             0.3333333333333333,
             "#9c179e"
            ],
            [
             0.4444444444444444,
             "#bd3786"
            ],
            [
             0.5555555555555556,
             "#d8576b"
            ],
            [
             0.6666666666666666,
             "#ed7953"
            ],
            [
             0.7777777777777778,
             "#fb9f3a"
            ],
            [
             0.8888888888888888,
             "#fdca26"
            ],
            [
             1,
             "#f0f921"
            ]
           ],
           "sequentialminus": [
            [
             0,
             "#0d0887"
            ],
            [
             0.1111111111111111,
             "#46039f"
            ],
            [
             0.2222222222222222,
             "#7201a8"
            ],
            [
             0.3333333333333333,
             "#9c179e"
            ],
            [
             0.4444444444444444,
             "#bd3786"
            ],
            [
             0.5555555555555556,
             "#d8576b"
            ],
            [
             0.6666666666666666,
             "#ed7953"
            ],
            [
             0.7777777777777778,
             "#fb9f3a"
            ],
            [
             0.8888888888888888,
             "#fdca26"
            ],
            [
             1,
             "#f0f921"
            ]
           ]
          },
          "colorway": [
           "#636efa",
           "#EF553B",
           "#00cc96",
           "#ab63fa",
           "#FFA15A",
           "#19d3f3",
           "#FF6692",
           "#B6E880",
           "#FF97FF",
           "#FECB52"
          ],
          "font": {
           "color": "#2a3f5f"
          },
          "geo": {
           "bgcolor": "white",
           "lakecolor": "white",
           "landcolor": "#E5ECF6",
           "showlakes": true,
           "showland": true,
           "subunitcolor": "white"
          },
          "hoverlabel": {
           "align": "left"
          },
          "hovermode": "closest",
          "mapbox": {
           "style": "light"
          },
          "paper_bgcolor": "white",
          "plot_bgcolor": "#E5ECF6",
          "polar": {
           "angularaxis": {
            "gridcolor": "white",
            "linecolor": "white",
            "ticks": ""
           },
           "bgcolor": "#E5ECF6",
           "radialaxis": {
            "gridcolor": "white",
            "linecolor": "white",
            "ticks": ""
           }
          },
          "scene": {
           "xaxis": {
            "backgroundcolor": "#E5ECF6",
            "gridcolor": "white",
            "gridwidth": 2,
            "linecolor": "white",
            "showbackground": true,
            "ticks": "",
            "zerolinecolor": "white"
           },
           "yaxis": {
            "backgroundcolor": "#E5ECF6",
            "gridcolor": "white",
            "gridwidth": 2,
            "linecolor": "white",
            "showbackground": true,
            "ticks": "",
            "zerolinecolor": "white"
           },
           "zaxis": {
            "backgroundcolor": "#E5ECF6",
            "gridcolor": "white",
            "gridwidth": 2,
            "linecolor": "white",
            "showbackground": true,
            "ticks": "",
            "zerolinecolor": "white"
           }
          },
          "shapedefaults": {
           "line": {
            "color": "#2a3f5f"
           }
          },
          "ternary": {
           "aaxis": {
            "gridcolor": "white",
            "linecolor": "white",
            "ticks": ""
           },
           "baxis": {
            "gridcolor": "white",
            "linecolor": "white",
            "ticks": ""
           },
           "bgcolor": "#E5ECF6",
           "caxis": {
            "gridcolor": "white",
            "linecolor": "white",
            "ticks": ""
           }
          },
          "title": {
           "x": 0.05
          },
          "xaxis": {
           "automargin": true,
           "gridcolor": "white",
           "linecolor": "white",
           "ticks": "",
           "title": {
            "standoff": 15
           },
           "zerolinecolor": "white",
           "zerolinewidth": 2
          },
          "yaxis": {
           "automargin": true,
           "gridcolor": "white",
           "linecolor": "white",
           "ticks": "",
           "title": {
            "standoff": 15
           },
           "zerolinecolor": "white",
           "zerolinewidth": 2
          }
         }
        },
        "title": {
         "text": "Boxplots of Price, Sqft Living, and Bedrooms"
        },
        "xaxis": {
         "anchor": "y",
         "domain": [
          0,
          0.2888888888888889
         ]
        },
        "xaxis2": {
         "anchor": "y2",
         "domain": [
          0.35555555555555557,
          0.6444444444444445
         ]
        },
        "xaxis3": {
         "anchor": "y3",
         "domain": [
          0.7111111111111111,
          1
         ]
        },
        "yaxis": {
         "anchor": "x",
         "domain": [
          0,
          1
         ]
        },
        "yaxis2": {
         "anchor": "x2",
         "domain": [
          0,
          1
         ]
        },
        "yaxis3": {
         "anchor": "x3",
         "domain": [
          0,
          1
         ]
        }
       }
      }
     },
     "metadata": {},
     "output_type": "display_data"
    }
   ],
   "source": [
    "fig = make_subplots(rows=1, cols=3, subplot_titles=[\"price\", \"sqft_living\", \"bedrooms\"])\n",
    "\n",
    "for i, col in enumerate([\"price\", \"sqft_living\", \"bedrooms\"], start=1):\n",
    "    fig.add_trace(go.Box(y=df[col], name=col), row=1, col=i)\n",
    "\n",
    "fig.update_layout(title_text=\"Boxplots of Price, Sqft Living, and Bedrooms\", showlegend=False)\n",
    "fig.show()"
   ]
  },
  {
   "cell_type": "code",
   "execution_count": 16,
   "id": "d35e1945",
   "metadata": {},
   "outputs": [],
   "source": [
    "def remove_outliers_iqr(data, col):\n",
    "    Q1 = data[col].quantile(0.25)\n",
    "    Q3 = data[col].quantile(0.75)\n",
    "    IQR = Q3 - Q1\n",
    "    lower = Q1 - 1.5 * IQR\n",
    "    upper = Q3 + 1.5 * IQR\n",
    "    return data[(data[col] >= lower) & (data[col] <= upper)]"
   ]
  },
  {
   "cell_type": "code",
   "execution_count": 17,
   "id": "1bd9d086",
   "metadata": {},
   "outputs": [],
   "source": [
    "for col in [\"price\", \"sqft_living\", \"bedrooms\"]:\n",
    "    df = remove_outliers_iqr(df, col)"
   ]
  },
  {
   "cell_type": "code",
   "execution_count": 18,
   "id": "4f1cde77",
   "metadata": {},
   "outputs": [],
   "source": [
    "df['date'] = pd.to_datetime(df['date'])\n",
    "df['sale_year'] = df['date'].dt.year\n",
    "df['sale_month'] = df['date'].dt.month\n",
    "df['house_age'] = df['sale_year'] - df['yr_built']"
   ]
  },
  {
   "cell_type": "code",
   "execution_count": 19,
   "id": "be17d9bd",
   "metadata": {},
   "outputs": [],
   "source": [
    "df['was_renovated'] = (df['yr_renovated'] != 0).astype(int)\n",
    "\n",
    "df['age_since_renovation'] = np.where(\n",
    "    df['yr_renovated'] == 0,\n",
    "    df['house_age'],  # if never renovated\n",
    "    df['sale_year'] - df['yr_renovated']\n",
    ")"
   ]
  },
  {
   "cell_type": "code",
   "execution_count": 20,
   "id": "1bc56388",
   "metadata": {},
   "outputs": [],
   "source": [
    "df['sqft_living_per_floor'] = df['sqft_living'] / df['floors'].replace(0, np.nan)\n",
    "\n",
    "df['bath_per_bed'] = df['bathrooms'] / df['bedrooms'].replace(0, np.nan)"
   ]
  },
  {
   "cell_type": "code",
   "execution_count": 22,
   "id": "b397706b",
   "metadata": {},
   "outputs": [
    {
     "name": "stdout",
     "output_type": "stream",
     "text": [
      "<class 'pandas.core.frame.DataFrame'>\n",
      "Index: 19687 entries, 0 to 21612\n",
      "Data columns (total 28 columns):\n",
      " #   Column                 Non-Null Count  Dtype         \n",
      "---  ------                 --------------  -----         \n",
      " 0   id                     19687 non-null  int64         \n",
      " 1   date                   19687 non-null  datetime64[ns]\n",
      " 2   price                  19687 non-null  float64       \n",
      " 3   bedrooms               19687 non-null  int64         \n",
      " 4   bathrooms              18713 non-null  float64       \n",
      " 5   sqft_living            19687 non-null  int64         \n",
      " 6   sqft_lot               18713 non-null  float64       \n",
      " 7   floors                 19687 non-null  float64       \n",
      " 8   waterfront             19687 non-null  int64         \n",
      " 9   view                   19687 non-null  int64         \n",
      " 10  condition              19687 non-null  int64         \n",
      " 11  grade                  19687 non-null  int64         \n",
      " 12  sqft_above             19687 non-null  int64         \n",
      " 13  sqft_basement          19687 non-null  int64         \n",
      " 14  yr_built               19687 non-null  int64         \n",
      " 15  yr_renovated           19687 non-null  int64         \n",
      " 16  zipcode                19687 non-null  int64         \n",
      " 17  lat                    19687 non-null  float64       \n",
      " 18  long                   19687 non-null  float64       \n",
      " 19  sqft_living15          19687 non-null  int64         \n",
      " 20  sqft_lot15             19687 non-null  int64         \n",
      " 21  sale_year              19687 non-null  int32         \n",
      " 22  sale_month             19687 non-null  int32         \n",
      " 23  house_age              19687 non-null  int64         \n",
      " 24  was_renovated          19687 non-null  int64         \n",
      " 25  age_since_renovation   19687 non-null  int64         \n",
      " 26  sqft_living_per_floor  19687 non-null  float64       \n",
      " 27  bath_per_bed           18713 non-null  float64       \n",
      "dtypes: datetime64[ns](1), float64(8), int32(2), int64(17)\n",
      "memory usage: 4.2 MB\n"
     ]
    }
   ],
   "source": [
    "df.info()"
   ]
  },
  {
   "cell_type": "markdown",
   "id": "c547f245",
   "metadata": {},
   "source": [
    "## Task 2"
   ]
  },
  {
   "cell_type": "code",
   "execution_count": 81,
   "id": "c99ae738",
   "metadata": {},
   "outputs": [],
   "source": [
    "num_features = [\n",
    "    'sqft_living', 'sqft_lot', 'bathrooms',\n",
    "    'house_age', 'age_since_renovation',\n",
    "    'sqft_living_per_floor', 'bath_per_bed',\n",
    "    'sqft_above', 'sqft_basement', \n",
    "    'sqft_living15', 'sqft_lot15'\n",
    "]\n",
    "\n",
    "cat_features = ['zipcode']\n",
    "\n",
    "passthrough_features = ['bedrooms', 'floors', 'waterfront', 'view', \n",
    "                'condition', 'grade', 'yr_built', 'yr_renovated', 'lat', 'long', \n",
    "                'sale_year', 'sale_month', 'was_renovated']"
   ]
  },
  {
   "cell_type": "code",
   "execution_count": 82,
   "id": "0e917ab8",
   "metadata": {},
   "outputs": [],
   "source": [
    "num_pipeline = Pipeline(steps=[\n",
    "    (\"imputer\", SimpleImputer(strategy=\"median\")),\n",
    "    (\"scaler\", StandardScaler())\n",
    "])"
   ]
  },
  {
   "cell_type": "code",
   "execution_count": 83,
   "id": "38f24370",
   "metadata": {},
   "outputs": [],
   "source": [
    "cat_pipeline = Pipeline(steps=[\n",
    "    (\"onehot\", OneHotEncoder(handle_unknown=\"ignore\"))\n",
    "])"
   ]
  },
  {
   "cell_type": "code",
   "execution_count": 84,
   "id": "4d88ef68",
   "metadata": {},
   "outputs": [],
   "source": [
    "preprocessor = ColumnTransformer(\n",
    "    transformers=[\n",
    "        (\"num\", num_pipeline, num_features),\n",
    "        (\"cat\", cat_pipeline, cat_features),\n",
    "        (\"pass\", \"passthrough\", passthrough_features)\n",
    "    ]\n",
    ")"
   ]
  },
  {
   "cell_type": "code",
   "execution_count": 85,
   "id": "4b21790c",
   "metadata": {},
   "outputs": [],
   "source": [
    "X = df.drop([\"price\", \"id\"], axis=1)\n",
    "y = df[\"price\"]"
   ]
  },
  {
   "cell_type": "code",
   "execution_count": 86,
   "id": "791b50fe",
   "metadata": {},
   "outputs": [],
   "source": [
    "X_train, X_test, y_train, y_test = train_test_split(\n",
    "    X, y, test_size=0.2, random_state=42\n",
    ")"
   ]
  },
  {
   "cell_type": "markdown",
   "id": "9bc3a4db",
   "metadata": {},
   "source": [
    "## Task 3"
   ]
  },
  {
   "cell_type": "code",
   "execution_count": 87,
   "id": "75d45c14",
   "metadata": {},
   "outputs": [],
   "source": [
    "rf_pipeline = Pipeline(steps=[\n",
    "    (\"preprocessor\", preprocessor),\n",
    "    (\"regressor\", RandomForestRegressor(random_state=42))\n",
    "])\n",
    "\n",
    "gb_pipeline = Pipeline(steps=[\n",
    "    (\"preprocessor\", preprocessor),\n",
    "    (\"regressor\", GradientBoostingRegressor(random_state=42))\n",
    "])\n",
    "\n",
    "xgb_pipeline = Pipeline(steps=[\n",
    "    (\"preprocessor\", preprocessor),\n",
    "    (\"regressor\", XGBRegressor(random_state=42, objective=\"reg:squarederror\"))\n",
    "])"
   ]
  },
  {
   "cell_type": "code",
   "execution_count": 88,
   "id": "723f96b1",
   "metadata": {},
   "outputs": [],
   "source": [
    "rf_param_grid = {\n",
    "    \"regressor__n_estimators\": [100, 200],\n",
    "    \"regressor__max_depth\": [None, 10, 20],\n",
    "}\n",
    "\n",
    "gb_param_grid = {\n",
    "    \"regressor__n_estimators\": [100, 200],\n",
    "    \"regressor__learning_rate\": [0.05, 0.1],\n",
    "    \"regressor__max_depth\": [3, 5],\n",
    "}\n",
    "\n",
    "xgb_param_grid = {\n",
    "    \"regressor__n_estimators\": [200, 500],\n",
    "    \"regressor__learning_rate\": [0.05, 0.1],\n",
    "    \"regressor__max_depth\": [3, 6],\n",
    "}"
   ]
  },
  {
   "cell_type": "code",
   "execution_count": 89,
   "id": "9cebdce1",
   "metadata": {},
   "outputs": [
    {
     "data": {
      "text/html": [
       "<style>#sk-container-id-1 {color: black;}#sk-container-id-1 pre{padding: 0;}#sk-container-id-1 div.sk-toggleable {background-color: white;}#sk-container-id-1 label.sk-toggleable__label {cursor: pointer;display: block;width: 100%;margin-bottom: 0;padding: 0.3em;box-sizing: border-box;text-align: center;}#sk-container-id-1 label.sk-toggleable__label-arrow:before {content: \"▸\";float: left;margin-right: 0.25em;color: #696969;}#sk-container-id-1 label.sk-toggleable__label-arrow:hover:before {color: black;}#sk-container-id-1 div.sk-estimator:hover label.sk-toggleable__label-arrow:before {color: black;}#sk-container-id-1 div.sk-toggleable__content {max-height: 0;max-width: 0;overflow: hidden;text-align: left;background-color: #f0f8ff;}#sk-container-id-1 div.sk-toggleable__content pre {margin: 0.2em;color: black;border-radius: 0.25em;background-color: #f0f8ff;}#sk-container-id-1 input.sk-toggleable__control:checked~div.sk-toggleable__content {max-height: 200px;max-width: 100%;overflow: auto;}#sk-container-id-1 input.sk-toggleable__control:checked~label.sk-toggleable__label-arrow:before {content: \"▾\";}#sk-container-id-1 div.sk-estimator input.sk-toggleable__control:checked~label.sk-toggleable__label {background-color: #d4ebff;}#sk-container-id-1 div.sk-label input.sk-toggleable__control:checked~label.sk-toggleable__label {background-color: #d4ebff;}#sk-container-id-1 input.sk-hidden--visually {border: 0;clip: rect(1px 1px 1px 1px);clip: rect(1px, 1px, 1px, 1px);height: 1px;margin: -1px;overflow: hidden;padding: 0;position: absolute;width: 1px;}#sk-container-id-1 div.sk-estimator {font-family: monospace;background-color: #f0f8ff;border: 1px dotted black;border-radius: 0.25em;box-sizing: border-box;margin-bottom: 0.5em;}#sk-container-id-1 div.sk-estimator:hover {background-color: #d4ebff;}#sk-container-id-1 div.sk-parallel-item::after {content: \"\";width: 100%;border-bottom: 1px solid gray;flex-grow: 1;}#sk-container-id-1 div.sk-label:hover label.sk-toggleable__label {background-color: #d4ebff;}#sk-container-id-1 div.sk-serial::before {content: \"\";position: absolute;border-left: 1px solid gray;box-sizing: border-box;top: 0;bottom: 0;left: 50%;z-index: 0;}#sk-container-id-1 div.sk-serial {display: flex;flex-direction: column;align-items: center;background-color: white;padding-right: 0.2em;padding-left: 0.2em;position: relative;}#sk-container-id-1 div.sk-item {position: relative;z-index: 1;}#sk-container-id-1 div.sk-parallel {display: flex;align-items: stretch;justify-content: center;background-color: white;position: relative;}#sk-container-id-1 div.sk-item::before, #sk-container-id-1 div.sk-parallel-item::before {content: \"\";position: absolute;border-left: 1px solid gray;box-sizing: border-box;top: 0;bottom: 0;left: 50%;z-index: -1;}#sk-container-id-1 div.sk-parallel-item {display: flex;flex-direction: column;z-index: 1;position: relative;background-color: white;}#sk-container-id-1 div.sk-parallel-item:first-child::after {align-self: flex-end;width: 50%;}#sk-container-id-1 div.sk-parallel-item:last-child::after {align-self: flex-start;width: 50%;}#sk-container-id-1 div.sk-parallel-item:only-child::after {width: 0;}#sk-container-id-1 div.sk-dashed-wrapped {border: 1px dashed gray;margin: 0 0.4em 0.5em 0.4em;box-sizing: border-box;padding-bottom: 0.4em;background-color: white;}#sk-container-id-1 div.sk-label label {font-family: monospace;font-weight: bold;display: inline-block;line-height: 1.2em;}#sk-container-id-1 div.sk-label-container {text-align: center;}#sk-container-id-1 div.sk-container {/* jupyter's `normalize.less` sets `[hidden] { display: none; }` but bootstrap.min.css set `[hidden] { display: none !important; }` so we also need the `!important` here to be able to override the default hidden behavior on the sphinx rendered scikit-learn.org. See: https://github.com/scikit-learn/scikit-learn/issues/21755 */display: inline-block !important;position: relative;}#sk-container-id-1 div.sk-text-repr-fallback {display: none;}</style><div id=\"sk-container-id-1\" class=\"sk-top-container\"><div class=\"sk-text-repr-fallback\"><pre>GridSearchCV(cv=3,\n",
       "             estimator=Pipeline(steps=[(&#x27;preprocessor&#x27;,\n",
       "                                        ColumnTransformer(transformers=[(&#x27;num&#x27;,\n",
       "                                                                         Pipeline(steps=[(&#x27;imputer&#x27;,\n",
       "                                                                                          SimpleImputer(strategy=&#x27;median&#x27;)),\n",
       "                                                                                         (&#x27;scaler&#x27;,\n",
       "                                                                                          StandardScaler())]),\n",
       "                                                                         [&#x27;sqft_living&#x27;,\n",
       "                                                                          &#x27;sqft_lot&#x27;,\n",
       "                                                                          &#x27;bathrooms&#x27;,\n",
       "                                                                          &#x27;house_age&#x27;,\n",
       "                                                                          &#x27;age_since_renovation&#x27;,\n",
       "                                                                          &#x27;sqft_living_per_floor&#x27;,\n",
       "                                                                          &#x27;bath_per_bed&#x27;,\n",
       "                                                                          &#x27;sqft_above&#x27;,\n",
       "                                                                          &#x27;sqft_basement&#x27;,\n",
       "                                                                          &#x27;sqft_living15&#x27;,\n",
       "                                                                          &#x27;sq...\n",
       "                                                     max_depth=None,\n",
       "                                                     max_leaves=None,\n",
       "                                                     min_child_weight=None,\n",
       "                                                     missing=nan,\n",
       "                                                     monotone_constraints=None,\n",
       "                                                     multi_strategy=None,\n",
       "                                                     n_estimators=None,\n",
       "                                                     n_jobs=None,\n",
       "                                                     num_parallel_tree=None,\n",
       "                                                     random_state=42, ...))]),\n",
       "             n_jobs=-1,\n",
       "             param_grid={&#x27;regressor__learning_rate&#x27;: [0.05, 0.1],\n",
       "                         &#x27;regressor__max_depth&#x27;: [3, 6],\n",
       "                         &#x27;regressor__n_estimators&#x27;: [200, 500]},\n",
       "             scoring=&#x27;neg_root_mean_squared_error&#x27;)</pre><b>In a Jupyter environment, please rerun this cell to show the HTML representation or trust the notebook. <br />On GitHub, the HTML representation is unable to render, please try loading this page with nbviewer.org.</b></div><div class=\"sk-container\" hidden><div class=\"sk-item sk-dashed-wrapped\"><div class=\"sk-label-container\"><div class=\"sk-label sk-toggleable\"><input class=\"sk-toggleable__control sk-hidden--visually\" id=\"sk-estimator-id-1\" type=\"checkbox\" ><label for=\"sk-estimator-id-1\" class=\"sk-toggleable__label sk-toggleable__label-arrow\">GridSearchCV</label><div class=\"sk-toggleable__content\"><pre>GridSearchCV(cv=3,\n",
       "             estimator=Pipeline(steps=[(&#x27;preprocessor&#x27;,\n",
       "                                        ColumnTransformer(transformers=[(&#x27;num&#x27;,\n",
       "                                                                         Pipeline(steps=[(&#x27;imputer&#x27;,\n",
       "                                                                                          SimpleImputer(strategy=&#x27;median&#x27;)),\n",
       "                                                                                         (&#x27;scaler&#x27;,\n",
       "                                                                                          StandardScaler())]),\n",
       "                                                                         [&#x27;sqft_living&#x27;,\n",
       "                                                                          &#x27;sqft_lot&#x27;,\n",
       "                                                                          &#x27;bathrooms&#x27;,\n",
       "                                                                          &#x27;house_age&#x27;,\n",
       "                                                                          &#x27;age_since_renovation&#x27;,\n",
       "                                                                          &#x27;sqft_living_per_floor&#x27;,\n",
       "                                                                          &#x27;bath_per_bed&#x27;,\n",
       "                                                                          &#x27;sqft_above&#x27;,\n",
       "                                                                          &#x27;sqft_basement&#x27;,\n",
       "                                                                          &#x27;sqft_living15&#x27;,\n",
       "                                                                          &#x27;sq...\n",
       "                                                     max_depth=None,\n",
       "                                                     max_leaves=None,\n",
       "                                                     min_child_weight=None,\n",
       "                                                     missing=nan,\n",
       "                                                     monotone_constraints=None,\n",
       "                                                     multi_strategy=None,\n",
       "                                                     n_estimators=None,\n",
       "                                                     n_jobs=None,\n",
       "                                                     num_parallel_tree=None,\n",
       "                                                     random_state=42, ...))]),\n",
       "             n_jobs=-1,\n",
       "             param_grid={&#x27;regressor__learning_rate&#x27;: [0.05, 0.1],\n",
       "                         &#x27;regressor__max_depth&#x27;: [3, 6],\n",
       "                         &#x27;regressor__n_estimators&#x27;: [200, 500]},\n",
       "             scoring=&#x27;neg_root_mean_squared_error&#x27;)</pre></div></div></div><div class=\"sk-parallel\"><div class=\"sk-parallel-item\"><div class=\"sk-item\"><div class=\"sk-label-container\"><div class=\"sk-label sk-toggleable\"><input class=\"sk-toggleable__control sk-hidden--visually\" id=\"sk-estimator-id-2\" type=\"checkbox\" ><label for=\"sk-estimator-id-2\" class=\"sk-toggleable__label sk-toggleable__label-arrow\">estimator: Pipeline</label><div class=\"sk-toggleable__content\"><pre>Pipeline(steps=[(&#x27;preprocessor&#x27;,\n",
       "                 ColumnTransformer(transformers=[(&#x27;num&#x27;,\n",
       "                                                  Pipeline(steps=[(&#x27;imputer&#x27;,\n",
       "                                                                   SimpleImputer(strategy=&#x27;median&#x27;)),\n",
       "                                                                  (&#x27;scaler&#x27;,\n",
       "                                                                   StandardScaler())]),\n",
       "                                                  [&#x27;sqft_living&#x27;, &#x27;sqft_lot&#x27;,\n",
       "                                                   &#x27;bathrooms&#x27;, &#x27;house_age&#x27;,\n",
       "                                                   &#x27;age_since_renovation&#x27;,\n",
       "                                                   &#x27;sqft_living_per_floor&#x27;,\n",
       "                                                   &#x27;bath_per_bed&#x27;, &#x27;sqft_above&#x27;,\n",
       "                                                   &#x27;sqft_basement&#x27;,\n",
       "                                                   &#x27;sqft_living15&#x27;,\n",
       "                                                   &#x27;sqft_lot15&#x27;]),\n",
       "                                                 (&#x27;cat&#x27;,\n",
       "                                                  Pipeline(...\n",
       "                              feature_types=None, gamma=None, grow_policy=None,\n",
       "                              importance_type=None,\n",
       "                              interaction_constraints=None, learning_rate=None,\n",
       "                              max_bin=None, max_cat_threshold=None,\n",
       "                              max_cat_to_onehot=None, max_delta_step=None,\n",
       "                              max_depth=None, max_leaves=None,\n",
       "                              min_child_weight=None, missing=nan,\n",
       "                              monotone_constraints=None, multi_strategy=None,\n",
       "                              n_estimators=None, n_jobs=None,\n",
       "                              num_parallel_tree=None, random_state=42, ...))])</pre></div></div></div><div class=\"sk-serial\"><div class=\"sk-item\"><div class=\"sk-serial\"><div class=\"sk-item sk-dashed-wrapped\"><div class=\"sk-label-container\"><div class=\"sk-label sk-toggleable\"><input class=\"sk-toggleable__control sk-hidden--visually\" id=\"sk-estimator-id-3\" type=\"checkbox\" ><label for=\"sk-estimator-id-3\" class=\"sk-toggleable__label sk-toggleable__label-arrow\">preprocessor: ColumnTransformer</label><div class=\"sk-toggleable__content\"><pre>ColumnTransformer(transformers=[(&#x27;num&#x27;,\n",
       "                                 Pipeline(steps=[(&#x27;imputer&#x27;,\n",
       "                                                  SimpleImputer(strategy=&#x27;median&#x27;)),\n",
       "                                                 (&#x27;scaler&#x27;, StandardScaler())]),\n",
       "                                 [&#x27;sqft_living&#x27;, &#x27;sqft_lot&#x27;, &#x27;bathrooms&#x27;,\n",
       "                                  &#x27;house_age&#x27;, &#x27;age_since_renovation&#x27;,\n",
       "                                  &#x27;sqft_living_per_floor&#x27;, &#x27;bath_per_bed&#x27;,\n",
       "                                  &#x27;sqft_above&#x27;, &#x27;sqft_basement&#x27;,\n",
       "                                  &#x27;sqft_living15&#x27;, &#x27;sqft_lot15&#x27;]),\n",
       "                                (&#x27;cat&#x27;,\n",
       "                                 Pipeline(steps=[(&#x27;onehot&#x27;,\n",
       "                                                  OneHotEncoder(handle_unknown=&#x27;ignore&#x27;))]),\n",
       "                                 [&#x27;zipcode&#x27;]),\n",
       "                                (&#x27;pass&#x27;, &#x27;passthrough&#x27;,\n",
       "                                 [&#x27;bedrooms&#x27;, &#x27;floors&#x27;, &#x27;waterfront&#x27;, &#x27;view&#x27;,\n",
       "                                  &#x27;condition&#x27;, &#x27;grade&#x27;, &#x27;yr_built&#x27;,\n",
       "                                  &#x27;yr_renovated&#x27;, &#x27;lat&#x27;, &#x27;long&#x27;, &#x27;sale_year&#x27;,\n",
       "                                  &#x27;sale_month&#x27;, &#x27;was_renovated&#x27;])])</pre></div></div></div><div class=\"sk-parallel\"><div class=\"sk-parallel-item\"><div class=\"sk-item\"><div class=\"sk-label-container\"><div class=\"sk-label sk-toggleable\"><input class=\"sk-toggleable__control sk-hidden--visually\" id=\"sk-estimator-id-4\" type=\"checkbox\" ><label for=\"sk-estimator-id-4\" class=\"sk-toggleable__label sk-toggleable__label-arrow\">num</label><div class=\"sk-toggleable__content\"><pre>[&#x27;sqft_living&#x27;, &#x27;sqft_lot&#x27;, &#x27;bathrooms&#x27;, &#x27;house_age&#x27;, &#x27;age_since_renovation&#x27;, &#x27;sqft_living_per_floor&#x27;, &#x27;bath_per_bed&#x27;, &#x27;sqft_above&#x27;, &#x27;sqft_basement&#x27;, &#x27;sqft_living15&#x27;, &#x27;sqft_lot15&#x27;]</pre></div></div></div><div class=\"sk-serial\"><div class=\"sk-item\"><div class=\"sk-serial\"><div class=\"sk-item\"><div class=\"sk-estimator sk-toggleable\"><input class=\"sk-toggleable__control sk-hidden--visually\" id=\"sk-estimator-id-5\" type=\"checkbox\" ><label for=\"sk-estimator-id-5\" class=\"sk-toggleable__label sk-toggleable__label-arrow\">SimpleImputer</label><div class=\"sk-toggleable__content\"><pre>SimpleImputer(strategy=&#x27;median&#x27;)</pre></div></div></div><div class=\"sk-item\"><div class=\"sk-estimator sk-toggleable\"><input class=\"sk-toggleable__control sk-hidden--visually\" id=\"sk-estimator-id-6\" type=\"checkbox\" ><label for=\"sk-estimator-id-6\" class=\"sk-toggleable__label sk-toggleable__label-arrow\">StandardScaler</label><div class=\"sk-toggleable__content\"><pre>StandardScaler()</pre></div></div></div></div></div></div></div></div><div class=\"sk-parallel-item\"><div class=\"sk-item\"><div class=\"sk-label-container\"><div class=\"sk-label sk-toggleable\"><input class=\"sk-toggleable__control sk-hidden--visually\" id=\"sk-estimator-id-7\" type=\"checkbox\" ><label for=\"sk-estimator-id-7\" class=\"sk-toggleable__label sk-toggleable__label-arrow\">cat</label><div class=\"sk-toggleable__content\"><pre>[&#x27;zipcode&#x27;]</pre></div></div></div><div class=\"sk-serial\"><div class=\"sk-item\"><div class=\"sk-serial\"><div class=\"sk-item\"><div class=\"sk-estimator sk-toggleable\"><input class=\"sk-toggleable__control sk-hidden--visually\" id=\"sk-estimator-id-8\" type=\"checkbox\" ><label for=\"sk-estimator-id-8\" class=\"sk-toggleable__label sk-toggleable__label-arrow\">OneHotEncoder</label><div class=\"sk-toggleable__content\"><pre>OneHotEncoder(handle_unknown=&#x27;ignore&#x27;)</pre></div></div></div></div></div></div></div></div><div class=\"sk-parallel-item\"><div class=\"sk-item\"><div class=\"sk-label-container\"><div class=\"sk-label sk-toggleable\"><input class=\"sk-toggleable__control sk-hidden--visually\" id=\"sk-estimator-id-9\" type=\"checkbox\" ><label for=\"sk-estimator-id-9\" class=\"sk-toggleable__label sk-toggleable__label-arrow\">pass</label><div class=\"sk-toggleable__content\"><pre>[&#x27;bedrooms&#x27;, &#x27;floors&#x27;, &#x27;waterfront&#x27;, &#x27;view&#x27;, &#x27;condition&#x27;, &#x27;grade&#x27;, &#x27;yr_built&#x27;, &#x27;yr_renovated&#x27;, &#x27;lat&#x27;, &#x27;long&#x27;, &#x27;sale_year&#x27;, &#x27;sale_month&#x27;, &#x27;was_renovated&#x27;]</pre></div></div></div><div class=\"sk-serial\"><div class=\"sk-item\"><div class=\"sk-estimator sk-toggleable\"><input class=\"sk-toggleable__control sk-hidden--visually\" id=\"sk-estimator-id-10\" type=\"checkbox\" ><label for=\"sk-estimator-id-10\" class=\"sk-toggleable__label sk-toggleable__label-arrow\">passthrough</label><div class=\"sk-toggleable__content\"><pre>passthrough</pre></div></div></div></div></div></div></div></div><div class=\"sk-item\"><div class=\"sk-estimator sk-toggleable\"><input class=\"sk-toggleable__control sk-hidden--visually\" id=\"sk-estimator-id-11\" type=\"checkbox\" ><label for=\"sk-estimator-id-11\" class=\"sk-toggleable__label sk-toggleable__label-arrow\">XGBRegressor</label><div class=\"sk-toggleable__content\"><pre>XGBRegressor(base_score=None, booster=None, callbacks=None,\n",
       "             colsample_bylevel=None, colsample_bynode=None,\n",
       "             colsample_bytree=None, device=None, early_stopping_rounds=None,\n",
       "             enable_categorical=False, eval_metric=None, feature_types=None,\n",
       "             gamma=None, grow_policy=None, importance_type=None,\n",
       "             interaction_constraints=None, learning_rate=None, max_bin=None,\n",
       "             max_cat_threshold=None, max_cat_to_onehot=None,\n",
       "             max_delta_step=None, max_depth=None, max_leaves=None,\n",
       "             min_child_weight=None, missing=nan, monotone_constraints=None,\n",
       "             multi_strategy=None, n_estimators=None, n_jobs=None,\n",
       "             num_parallel_tree=None, random_state=42, ...)</pre></div></div></div></div></div></div></div></div></div></div></div></div>"
      ],
      "text/plain": [
       "GridSearchCV(cv=3,\n",
       "             estimator=Pipeline(steps=[('preprocessor',\n",
       "                                        ColumnTransformer(transformers=[('num',\n",
       "                                                                         Pipeline(steps=[('imputer',\n",
       "                                                                                          SimpleImputer(strategy='median')),\n",
       "                                                                                         ('scaler',\n",
       "                                                                                          StandardScaler())]),\n",
       "                                                                         ['sqft_living',\n",
       "                                                                          'sqft_lot',\n",
       "                                                                          'bathrooms',\n",
       "                                                                          'house_age',\n",
       "                                                                          'age_since_renovation',\n",
       "                                                                          'sqft_living_per_floor',\n",
       "                                                                          'bath_per_bed',\n",
       "                                                                          'sqft_above',\n",
       "                                                                          'sqft_basement',\n",
       "                                                                          'sqft_living15',\n",
       "                                                                          'sq...\n",
       "                                                     max_depth=None,\n",
       "                                                     max_leaves=None,\n",
       "                                                     min_child_weight=None,\n",
       "                                                     missing=nan,\n",
       "                                                     monotone_constraints=None,\n",
       "                                                     multi_strategy=None,\n",
       "                                                     n_estimators=None,\n",
       "                                                     n_jobs=None,\n",
       "                                                     num_parallel_tree=None,\n",
       "                                                     random_state=42, ...))]),\n",
       "             n_jobs=-1,\n",
       "             param_grid={'regressor__learning_rate': [0.05, 0.1],\n",
       "                         'regressor__max_depth': [3, 6],\n",
       "                         'regressor__n_estimators': [200, 500]},\n",
       "             scoring='neg_root_mean_squared_error')"
      ]
     },
     "execution_count": 89,
     "metadata": {},
     "output_type": "execute_result"
    }
   ],
   "source": [
    "rf_grid = GridSearchCV(rf_pipeline, rf_param_grid, cv=3, n_jobs=-1, scoring=\"neg_root_mean_squared_error\")\n",
    "rf_grid.fit(X_train, y_train)\n",
    "\n",
    "gb_grid = GridSearchCV(gb_pipeline, gb_param_grid, cv=3, n_jobs=-1, scoring=\"neg_root_mean_squared_error\")\n",
    "gb_grid.fit(X_train, y_train)\n",
    "\n",
    "xgb_grid = GridSearchCV(xgb_pipeline, xgb_param_grid, cv=3, n_jobs=-1, scoring=\"neg_root_mean_squared_error\")\n",
    "xgb_grid.fit(X_train, y_train)"
   ]
  },
  {
   "cell_type": "code",
   "execution_count": 90,
   "id": "8e961573",
   "metadata": {},
   "outputs": [
    {
     "name": "stdout",
     "output_type": "stream",
     "text": [
      "RandomForest: RMSE=78028.78, Best Params={'regressor__max_depth': None, 'regressor__n_estimators': 200}\n",
      "GradientBoosting: RMSE=72464.63, Best Params={'regressor__learning_rate': 0.1, 'regressor__max_depth': 5, 'regressor__n_estimators': 200}\n",
      "XGBoost: RMSE=71042.92, Best Params={'regressor__learning_rate': 0.1, 'regressor__max_depth': 6, 'regressor__n_estimators': 500}\n"
     ]
    }
   ],
   "source": [
    "results = {\n",
    "    \"RandomForest\": (rf_grid.best_params_, -rf_grid.best_score_),\n",
    "    \"GradientBoosting\": (gb_grid.best_params_, -gb_grid.best_score_),\n",
    "    \"XGBoost\": (xgb_grid.best_params_, -xgb_grid.best_score_)\n",
    "}\n",
    "\n",
    "for model, (params, score) in results.items():\n",
    "    print(f\"{model}: RMSE={score:.2f}, Best Params={params}\")"
   ]
  },
  {
   "cell_type": "markdown",
   "id": "8df9119d",
   "metadata": {},
   "source": [
    "## Task 4"
   ]
  },
  {
   "cell_type": "code",
   "execution_count": 111,
   "id": "3d3258e2",
   "metadata": {},
   "outputs": [
    {
     "name": "stdout",
     "output_type": "stream",
     "text": [
      "The overall best model is: XGBoost\n",
      "With a score of: 71042.9206\n",
      "And the following parameters: {'regressor__learning_rate': 0.1, 'regressor__max_depth': 6, 'regressor__n_estimators': 500}\n"
     ]
    }
   ],
   "source": [
    "best_model_name = min(results, key=lambda model: results[model][1])\n",
    "best_score = results[best_model_name][1]\n",
    "best_params = results[best_model_name][0]\n",
    "\n",
    "print(f\"The overall best model is: {best_model_name}\")\n",
    "print(f\"With a score of: {best_score:.4f}\")\n",
    "print(f\"And the following parameters: {best_params}\")"
   ]
  },
  {
   "cell_type": "code",
   "execution_count": 113,
   "id": "ceeee388",
   "metadata": {},
   "outputs": [
    {
     "name": "stdout",
     "output_type": "stream",
     "text": [
      "Final Test Performance:\n",
      "R2 Score: 0.8822\n",
      "MAE: 48674.88\n",
      "RMSE: 70172.12\n"
     ]
    }
   ],
   "source": [
    "y_pred = xgb_grid.predict(X_test)\n",
    "\n",
    "r2 = r2_score(y_test, y_pred)\n",
    "mae = mean_absolute_error(y_test, y_pred)\n",
    "rmse = np.sqrt(mean_squared_error(y_test, y_pred))\n",
    "\n",
    "print(\"Final Test Performance:\")\n",
    "print(f\"R2 Score: {r2:.4f}\")\n",
    "print(f\"MAE: {mae:.2f}\")\n",
    "print(f\"RMSE: {rmse:.2f}\")"
   ]
  },
  {
   "cell_type": "code",
   "execution_count": 118,
   "id": "517cc6a4",
   "metadata": {},
   "outputs": [
    {
     "name": "stdout",
     "output_type": "stream",
     "text": [
      "        Model           RMSE\n",
      "0    Baseline  212131.231023\n",
      "1  Tuned Best   70172.123564\n",
      "Percentage Improvement in RMSE: 66.92%\n"
     ]
    }
   ],
   "source": [
    "baseline_rmse = 212131.231023\n",
    "improvement = (baseline_rmse - rmse) / baseline_rmse * 100\n",
    "\n",
    "results_df = pd.DataFrame({\n",
    "    \"Model\": [\"Baseline\", \"Tuned Best\"],\n",
    "    \"RMSE\": [baseline_rmse, rmse]\n",
    "})\n",
    "\n",
    "print(results_df)\n",
    "print(f\"Percentage Improvement in RMSE: {improvement:.2f}%\")"
   ]
  },
  {
   "cell_type": "code",
   "execution_count": 119,
   "id": "1053911f",
   "metadata": {},
   "outputs": [
    {
     "data": {
      "application/vnd.plotly.v1+json": {
       "config": {
        "plotlyServerURL": "https://plot.ly"
       },
       "data": [
        {
         "hovertemplate": "Model=%{x}<br>RMSE=%{y}<extra></extra>",
         "legendgroup": "",
         "marker": {
          "color": "#636efa",
          "pattern": {
           "shape": ""
          }
         },
         "name": "",
         "orientation": "v",
         "showlegend": false,
         "textposition": "auto",
         "type": "bar",
         "x": [
          "Baseline",
          "Tuned Best"
         ],
         "xaxis": "x",
         "y": {
          "bdata": "LZYi2RnlCUHGoB76wSHxQA==",
          "dtype": "f8"
         },
         "yaxis": "y"
        }
       ],
       "layout": {
        "barmode": "relative",
        "legend": {
         "tracegroupgap": 0
        },
        "margin": {
         "t": 60
        },
        "template": {
         "data": {
          "bar": [
           {
            "error_x": {
             "color": "#2a3f5f"
            },
            "error_y": {
             "color": "#2a3f5f"
            },
            "marker": {
             "line": {
              "color": "#E5ECF6",
              "width": 0.5
             },
             "pattern": {
              "fillmode": "overlay",
              "size": 10,
              "solidity": 0.2
             }
            },
            "type": "bar"
           }
          ],
          "barpolar": [
           {
            "marker": {
             "line": {
              "color": "#E5ECF6",
              "width": 0.5
             },
             "pattern": {
              "fillmode": "overlay",
              "size": 10,
              "solidity": 0.2
             }
            },
            "type": "barpolar"
           }
          ],
          "carpet": [
           {
            "aaxis": {
             "endlinecolor": "#2a3f5f",
             "gridcolor": "white",
             "linecolor": "white",
             "minorgridcolor": "white",
             "startlinecolor": "#2a3f5f"
            },
            "baxis": {
             "endlinecolor": "#2a3f5f",
             "gridcolor": "white",
             "linecolor": "white",
             "minorgridcolor": "white",
             "startlinecolor": "#2a3f5f"
            },
            "type": "carpet"
           }
          ],
          "choropleth": [
           {
            "colorbar": {
             "outlinewidth": 0,
             "ticks": ""
            },
            "type": "choropleth"
           }
          ],
          "contour": [
           {
            "colorbar": {
             "outlinewidth": 0,
             "ticks": ""
            },
            "colorscale": [
             [
              0,
              "#0d0887"
             ],
             [
              0.1111111111111111,
              "#46039f"
             ],
             [
              0.2222222222222222,
              "#7201a8"
             ],
             [
              0.3333333333333333,
              "#9c179e"
             ],
             [
              0.4444444444444444,
              "#bd3786"
             ],
             [
              0.5555555555555556,
              "#d8576b"
             ],
             [
              0.6666666666666666,
              "#ed7953"
             ],
             [
              0.7777777777777778,
              "#fb9f3a"
             ],
             [
              0.8888888888888888,
              "#fdca26"
             ],
             [
              1,
              "#f0f921"
             ]
            ],
            "type": "contour"
           }
          ],
          "contourcarpet": [
           {
            "colorbar": {
             "outlinewidth": 0,
             "ticks": ""
            },
            "type": "contourcarpet"
           }
          ],
          "heatmap": [
           {
            "colorbar": {
             "outlinewidth": 0,
             "ticks": ""
            },
            "colorscale": [
             [
              0,
              "#0d0887"
             ],
             [
              0.1111111111111111,
              "#46039f"
             ],
             [
              0.2222222222222222,
              "#7201a8"
             ],
             [
              0.3333333333333333,
              "#9c179e"
             ],
             [
              0.4444444444444444,
              "#bd3786"
             ],
             [
              0.5555555555555556,
              "#d8576b"
             ],
             [
              0.6666666666666666,
              "#ed7953"
             ],
             [
              0.7777777777777778,
              "#fb9f3a"
             ],
             [
              0.8888888888888888,
              "#fdca26"
             ],
             [
              1,
              "#f0f921"
             ]
            ],
            "type": "heatmap"
           }
          ],
          "histogram": [
           {
            "marker": {
             "pattern": {
              "fillmode": "overlay",
              "size": 10,
              "solidity": 0.2
             }
            },
            "type": "histogram"
           }
          ],
          "histogram2d": [
           {
            "colorbar": {
             "outlinewidth": 0,
             "ticks": ""
            },
            "colorscale": [
             [
              0,
              "#0d0887"
             ],
             [
              0.1111111111111111,
              "#46039f"
             ],
             [
              0.2222222222222222,
              "#7201a8"
             ],
             [
              0.3333333333333333,
              "#9c179e"
             ],
             [
              0.4444444444444444,
              "#bd3786"
             ],
             [
              0.5555555555555556,
              "#d8576b"
             ],
             [
              0.6666666666666666,
              "#ed7953"
             ],
             [
              0.7777777777777778,
              "#fb9f3a"
             ],
             [
              0.8888888888888888,
              "#fdca26"
             ],
             [
              1,
              "#f0f921"
             ]
            ],
            "type": "histogram2d"
           }
          ],
          "histogram2dcontour": [
           {
            "colorbar": {
             "outlinewidth": 0,
             "ticks": ""
            },
            "colorscale": [
             [
              0,
              "#0d0887"
             ],
             [
              0.1111111111111111,
              "#46039f"
             ],
             [
              0.2222222222222222,
              "#7201a8"
             ],
             [
              0.3333333333333333,
              "#9c179e"
             ],
             [
              0.4444444444444444,
              "#bd3786"
             ],
             [
              0.5555555555555556,
              "#d8576b"
             ],
             [
              0.6666666666666666,
              "#ed7953"
             ],
             [
              0.7777777777777778,
              "#fb9f3a"
             ],
             [
              0.8888888888888888,
              "#fdca26"
             ],
             [
              1,
              "#f0f921"
             ]
            ],
            "type": "histogram2dcontour"
           }
          ],
          "mesh3d": [
           {
            "colorbar": {
             "outlinewidth": 0,
             "ticks": ""
            },
            "type": "mesh3d"
           }
          ],
          "parcoords": [
           {
            "line": {
             "colorbar": {
              "outlinewidth": 0,
              "ticks": ""
             }
            },
            "type": "parcoords"
           }
          ],
          "pie": [
           {
            "automargin": true,
            "type": "pie"
           }
          ],
          "scatter": [
           {
            "fillpattern": {
             "fillmode": "overlay",
             "size": 10,
             "solidity": 0.2
            },
            "type": "scatter"
           }
          ],
          "scatter3d": [
           {
            "line": {
             "colorbar": {
              "outlinewidth": 0,
              "ticks": ""
             }
            },
            "marker": {
             "colorbar": {
              "outlinewidth": 0,
              "ticks": ""
             }
            },
            "type": "scatter3d"
           }
          ],
          "scattercarpet": [
           {
            "marker": {
             "colorbar": {
              "outlinewidth": 0,
              "ticks": ""
             }
            },
            "type": "scattercarpet"
           }
          ],
          "scattergeo": [
           {
            "marker": {
             "colorbar": {
              "outlinewidth": 0,
              "ticks": ""
             }
            },
            "type": "scattergeo"
           }
          ],
          "scattergl": [
           {
            "marker": {
             "colorbar": {
              "outlinewidth": 0,
              "ticks": ""
             }
            },
            "type": "scattergl"
           }
          ],
          "scattermap": [
           {
            "marker": {
             "colorbar": {
              "outlinewidth": 0,
              "ticks": ""
             }
            },
            "type": "scattermap"
           }
          ],
          "scattermapbox": [
           {
            "marker": {
             "colorbar": {
              "outlinewidth": 0,
              "ticks": ""
             }
            },
            "type": "scattermapbox"
           }
          ],
          "scatterpolar": [
           {
            "marker": {
             "colorbar": {
              "outlinewidth": 0,
              "ticks": ""
             }
            },
            "type": "scatterpolar"
           }
          ],
          "scatterpolargl": [
           {
            "marker": {
             "colorbar": {
              "outlinewidth": 0,
              "ticks": ""
             }
            },
            "type": "scatterpolargl"
           }
          ],
          "scatterternary": [
           {
            "marker": {
             "colorbar": {
              "outlinewidth": 0,
              "ticks": ""
             }
            },
            "type": "scatterternary"
           }
          ],
          "surface": [
           {
            "colorbar": {
             "outlinewidth": 0,
             "ticks": ""
            },
            "colorscale": [
             [
              0,
              "#0d0887"
             ],
             [
              0.1111111111111111,
              "#46039f"
             ],
             [
              0.2222222222222222,
              "#7201a8"
             ],
             [
              0.3333333333333333,
              "#9c179e"
             ],
             [
              0.4444444444444444,
              "#bd3786"
             ],
             [
              0.5555555555555556,
              "#d8576b"
             ],
             [
              0.6666666666666666,
              "#ed7953"
             ],
             [
              0.7777777777777778,
              "#fb9f3a"
             ],
             [
              0.8888888888888888,
              "#fdca26"
             ],
             [
              1,
              "#f0f921"
             ]
            ],
            "type": "surface"
           }
          ],
          "table": [
           {
            "cells": {
             "fill": {
              "color": "#EBF0F8"
             },
             "line": {
              "color": "white"
             }
            },
            "header": {
             "fill": {
              "color": "#C8D4E3"
             },
             "line": {
              "color": "white"
             }
            },
            "type": "table"
           }
          ]
         },
         "layout": {
          "annotationdefaults": {
           "arrowcolor": "#2a3f5f",
           "arrowhead": 0,
           "arrowwidth": 1
          },
          "autotypenumbers": "strict",
          "coloraxis": {
           "colorbar": {
            "outlinewidth": 0,
            "ticks": ""
           }
          },
          "colorscale": {
           "diverging": [
            [
             0,
             "#8e0152"
            ],
            [
             0.1,
             "#c51b7d"
            ],
            [
             0.2,
             "#de77ae"
            ],
            [
             0.3,
             "#f1b6da"
            ],
            [
             0.4,
             "#fde0ef"
            ],
            [
             0.5,
             "#f7f7f7"
            ],
            [
             0.6,
             "#e6f5d0"
            ],
            [
             0.7,
             "#b8e186"
            ],
            [
             0.8,
             "#7fbc41"
            ],
            [
             0.9,
             "#4d9221"
            ],
            [
             1,
             "#276419"
            ]
           ],
           "sequential": [
            [
             0,
             "#0d0887"
            ],
            [
             0.1111111111111111,
             "#46039f"
            ],
            [
             0.2222222222222222,
             "#7201a8"
            ],
            [
             0.3333333333333333,
             "#9c179e"
            ],
            [
             0.4444444444444444,
             "#bd3786"
            ],
            [
             0.5555555555555556,
             "#d8576b"
            ],
            [
             0.6666666666666666,
             "#ed7953"
            ],
            [
             0.7777777777777778,
             "#fb9f3a"
            ],
            [
             0.8888888888888888,
             "#fdca26"
            ],
            [
             1,
             "#f0f921"
            ]
           ],
           "sequentialminus": [
            [
             0,
             "#0d0887"
            ],
            [
             0.1111111111111111,
             "#46039f"
            ],
            [
             0.2222222222222222,
             "#7201a8"
            ],
            [
             0.3333333333333333,
             "#9c179e"
            ],
            [
             0.4444444444444444,
             "#bd3786"
            ],
            [
             0.5555555555555556,
             "#d8576b"
            ],
            [
             0.6666666666666666,
             "#ed7953"
            ],
            [
             0.7777777777777778,
             "#fb9f3a"
            ],
            [
             0.8888888888888888,
             "#fdca26"
            ],
            [
             1,
             "#f0f921"
            ]
           ]
          },
          "colorway": [
           "#636efa",
           "#EF553B",
           "#00cc96",
           "#ab63fa",
           "#FFA15A",
           "#19d3f3",
           "#FF6692",
           "#B6E880",
           "#FF97FF",
           "#FECB52"
          ],
          "font": {
           "color": "#2a3f5f"
          },
          "geo": {
           "bgcolor": "white",
           "lakecolor": "white",
           "landcolor": "#E5ECF6",
           "showlakes": true,
           "showland": true,
           "subunitcolor": "white"
          },
          "hoverlabel": {
           "align": "left"
          },
          "hovermode": "closest",
          "mapbox": {
           "style": "light"
          },
          "paper_bgcolor": "white",
          "plot_bgcolor": "#E5ECF6",
          "polar": {
           "angularaxis": {
            "gridcolor": "white",
            "linecolor": "white",
            "ticks": ""
           },
           "bgcolor": "#E5ECF6",
           "radialaxis": {
            "gridcolor": "white",
            "linecolor": "white",
            "ticks": ""
           }
          },
          "scene": {
           "xaxis": {
            "backgroundcolor": "#E5ECF6",
            "gridcolor": "white",
            "gridwidth": 2,
            "linecolor": "white",
            "showbackground": true,
            "ticks": "",
            "zerolinecolor": "white"
           },
           "yaxis": {
            "backgroundcolor": "#E5ECF6",
            "gridcolor": "white",
            "gridwidth": 2,
            "linecolor": "white",
            "showbackground": true,
            "ticks": "",
            "zerolinecolor": "white"
           },
           "zaxis": {
            "backgroundcolor": "#E5ECF6",
            "gridcolor": "white",
            "gridwidth": 2,
            "linecolor": "white",
            "showbackground": true,
            "ticks": "",
            "zerolinecolor": "white"
           }
          },
          "shapedefaults": {
           "line": {
            "color": "#2a3f5f"
           }
          },
          "ternary": {
           "aaxis": {
            "gridcolor": "white",
            "linecolor": "white",
            "ticks": ""
           },
           "baxis": {
            "gridcolor": "white",
            "linecolor": "white",
            "ticks": ""
           },
           "bgcolor": "#E5ECF6",
           "caxis": {
            "gridcolor": "white",
            "linecolor": "white",
            "ticks": ""
           }
          },
          "title": {
           "x": 0.05
          },
          "xaxis": {
           "automargin": true,
           "gridcolor": "white",
           "linecolor": "white",
           "ticks": "",
           "title": {
            "standoff": 15
           },
           "zerolinecolor": "white",
           "zerolinewidth": 2
          },
          "yaxis": {
           "automargin": true,
           "gridcolor": "white",
           "linecolor": "white",
           "ticks": "",
           "title": {
            "standoff": 15
           },
           "zerolinecolor": "white",
           "zerolinewidth": 2
          }
         }
        },
        "xaxis": {
         "anchor": "y",
         "domain": [
          0,
          1
         ],
         "title": {
          "text": "Model"
         }
        },
        "yaxis": {
         "anchor": "x",
         "domain": [
          0,
          1
         ],
         "title": {
          "text": "RMSE"
         }
        }
       }
      }
     },
     "metadata": {},
     "output_type": "display_data"
    }
   ],
   "source": [
    "fig = px.bar(results_df, x=\"Model\", y=\"RMSE\")\n",
    "\n",
    "fig.show()"
   ]
  },
  {
   "cell_type": "code",
   "execution_count": 116,
   "id": "3d01358f",
   "metadata": {},
   "outputs": [],
   "source": [
    "num_features_out = num_features\n",
    "\n",
    "ohe = xgb_grid.best_estimator_.named_steps['preprocessor'].named_transformers_['cat'].named_steps['onehot']\n",
    "ohe_features = ohe.get_feature_names_out(cat_features)\n",
    "\n",
    "all_features = list(num_features_out) + list(ohe_features) + passthrough_features\n",
    "\n",
    "importances = xgb_grid.best_estimator_.named_steps['regressor'].feature_importances_\n",
    "\n",
    "feat_imp = pd.DataFrame({\n",
    "    \"Feature\": all_features,\n",
    "    \"Importance\": importances\n",
    "}).sort_values(by=\"Importance\", ascending=False)"
   ]
  },
  {
   "cell_type": "code",
   "execution_count": 117,
   "id": "c8e55a17",
   "metadata": {},
   "outputs": [
    {
     "data": {
      "application/vnd.plotly.v1+json": {
       "config": {
        "plotlyServerURL": "https://plot.ly"
       },
       "data": [
        {
         "hovertemplate": "Importance=%{text}<br>Feature=%{y}<extra></extra>",
         "legendgroup": "",
         "marker": {
          "color": "#636efa",
          "pattern": {
           "shape": ""
          }
         },
         "name": "",
         "orientation": "h",
         "showlegend": false,
         "text": {
          "bdata": "AAAAoGXyxz8AAABAiw/BPwAAAGCVc64/AAAAwBqhrD8AAACAJhmkPwAAAMAmZ54/AAAAAP8emj8AAAAAELeZPwAAACA3AZg/AAAAgHdQkj8=",
          "dtype": "f8"
         },
         "textposition": "auto",
         "type": "bar",
         "x": {
          "bdata": "LZM/Plp8CD6rnHM91ghlPTTJID02OfM8+PfQPIC4zTy5CcA8vIOSPA==",
          "dtype": "f4"
         },
         "xaxis": "x",
         "y": [
          "grade",
          "lat",
          "sqft_living",
          "zipcode_98004",
          "zipcode_98040",
          "view",
          "zipcode_98023",
          "zipcode_98108",
          "zipcode_98144",
          "long"
         ],
         "yaxis": "y"
        }
       ],
       "layout": {
        "barmode": "relative",
        "height": 600,
        "legend": {
         "tracegroupgap": 0
        },
        "margin": {
         "b": 50,
         "l": 120,
         "r": 20,
         "t": 50
        },
        "template": {
         "data": {
          "bar": [
           {
            "error_x": {
             "color": "#2a3f5f"
            },
            "error_y": {
             "color": "#2a3f5f"
            },
            "marker": {
             "line": {
              "color": "#E5ECF6",
              "width": 0.5
             },
             "pattern": {
              "fillmode": "overlay",
              "size": 10,
              "solidity": 0.2
             }
            },
            "type": "bar"
           }
          ],
          "barpolar": [
           {
            "marker": {
             "line": {
              "color": "#E5ECF6",
              "width": 0.5
             },
             "pattern": {
              "fillmode": "overlay",
              "size": 10,
              "solidity": 0.2
             }
            },
            "type": "barpolar"
           }
          ],
          "carpet": [
           {
            "aaxis": {
             "endlinecolor": "#2a3f5f",
             "gridcolor": "white",
             "linecolor": "white",
             "minorgridcolor": "white",
             "startlinecolor": "#2a3f5f"
            },
            "baxis": {
             "endlinecolor": "#2a3f5f",
             "gridcolor": "white",
             "linecolor": "white",
             "minorgridcolor": "white",
             "startlinecolor": "#2a3f5f"
            },
            "type": "carpet"
           }
          ],
          "choropleth": [
           {
            "colorbar": {
             "outlinewidth": 0,
             "ticks": ""
            },
            "type": "choropleth"
           }
          ],
          "contour": [
           {
            "colorbar": {
             "outlinewidth": 0,
             "ticks": ""
            },
            "colorscale": [
             [
              0,
              "#0d0887"
             ],
             [
              0.1111111111111111,
              "#46039f"
             ],
             [
              0.2222222222222222,
              "#7201a8"
             ],
             [
              0.3333333333333333,
              "#9c179e"
             ],
             [
              0.4444444444444444,
              "#bd3786"
             ],
             [
              0.5555555555555556,
              "#d8576b"
             ],
             [
              0.6666666666666666,
              "#ed7953"
             ],
             [
              0.7777777777777778,
              "#fb9f3a"
             ],
             [
              0.8888888888888888,
              "#fdca26"
             ],
             [
              1,
              "#f0f921"
             ]
            ],
            "type": "contour"
           }
          ],
          "contourcarpet": [
           {
            "colorbar": {
             "outlinewidth": 0,
             "ticks": ""
            },
            "type": "contourcarpet"
           }
          ],
          "heatmap": [
           {
            "colorbar": {
             "outlinewidth": 0,
             "ticks": ""
            },
            "colorscale": [
             [
              0,
              "#0d0887"
             ],
             [
              0.1111111111111111,
              "#46039f"
             ],
             [
              0.2222222222222222,
              "#7201a8"
             ],
             [
              0.3333333333333333,
              "#9c179e"
             ],
             [
              0.4444444444444444,
              "#bd3786"
             ],
             [
              0.5555555555555556,
              "#d8576b"
             ],
             [
              0.6666666666666666,
              "#ed7953"
             ],
             [
              0.7777777777777778,
              "#fb9f3a"
             ],
             [
              0.8888888888888888,
              "#fdca26"
             ],
             [
              1,
              "#f0f921"
             ]
            ],
            "type": "heatmap"
           }
          ],
          "histogram": [
           {
            "marker": {
             "pattern": {
              "fillmode": "overlay",
              "size": 10,
              "solidity": 0.2
             }
            },
            "type": "histogram"
           }
          ],
          "histogram2d": [
           {
            "colorbar": {
             "outlinewidth": 0,
             "ticks": ""
            },
            "colorscale": [
             [
              0,
              "#0d0887"
             ],
             [
              0.1111111111111111,
              "#46039f"
             ],
             [
              0.2222222222222222,
              "#7201a8"
             ],
             [
              0.3333333333333333,
              "#9c179e"
             ],
             [
              0.4444444444444444,
              "#bd3786"
             ],
             [
              0.5555555555555556,
              "#d8576b"
             ],
             [
              0.6666666666666666,
              "#ed7953"
             ],
             [
              0.7777777777777778,
              "#fb9f3a"
             ],
             [
              0.8888888888888888,
              "#fdca26"
             ],
             [
              1,
              "#f0f921"
             ]
            ],
            "type": "histogram2d"
           }
          ],
          "histogram2dcontour": [
           {
            "colorbar": {
             "outlinewidth": 0,
             "ticks": ""
            },
            "colorscale": [
             [
              0,
              "#0d0887"
             ],
             [
              0.1111111111111111,
              "#46039f"
             ],
             [
              0.2222222222222222,
              "#7201a8"
             ],
             [
              0.3333333333333333,
              "#9c179e"
             ],
             [
              0.4444444444444444,
              "#bd3786"
             ],
             [
              0.5555555555555556,
              "#d8576b"
             ],
             [
              0.6666666666666666,
              "#ed7953"
             ],
             [
              0.7777777777777778,
              "#fb9f3a"
             ],
             [
              0.8888888888888888,
              "#fdca26"
             ],
             [
              1,
              "#f0f921"
             ]
            ],
            "type": "histogram2dcontour"
           }
          ],
          "mesh3d": [
           {
            "colorbar": {
             "outlinewidth": 0,
             "ticks": ""
            },
            "type": "mesh3d"
           }
          ],
          "parcoords": [
           {
            "line": {
             "colorbar": {
              "outlinewidth": 0,
              "ticks": ""
             }
            },
            "type": "parcoords"
           }
          ],
          "pie": [
           {
            "automargin": true,
            "type": "pie"
           }
          ],
          "scatter": [
           {
            "fillpattern": {
             "fillmode": "overlay",
             "size": 10,
             "solidity": 0.2
            },
            "type": "scatter"
           }
          ],
          "scatter3d": [
           {
            "line": {
             "colorbar": {
              "outlinewidth": 0,
              "ticks": ""
             }
            },
            "marker": {
             "colorbar": {
              "outlinewidth": 0,
              "ticks": ""
             }
            },
            "type": "scatter3d"
           }
          ],
          "scattercarpet": [
           {
            "marker": {
             "colorbar": {
              "outlinewidth": 0,
              "ticks": ""
             }
            },
            "type": "scattercarpet"
           }
          ],
          "scattergeo": [
           {
            "marker": {
             "colorbar": {
              "outlinewidth": 0,
              "ticks": ""
             }
            },
            "type": "scattergeo"
           }
          ],
          "scattergl": [
           {
            "marker": {
             "colorbar": {
              "outlinewidth": 0,
              "ticks": ""
             }
            },
            "type": "scattergl"
           }
          ],
          "scattermap": [
           {
            "marker": {
             "colorbar": {
              "outlinewidth": 0,
              "ticks": ""
             }
            },
            "type": "scattermap"
           }
          ],
          "scattermapbox": [
           {
            "marker": {
             "colorbar": {
              "outlinewidth": 0,
              "ticks": ""
             }
            },
            "type": "scattermapbox"
           }
          ],
          "scatterpolar": [
           {
            "marker": {
             "colorbar": {
              "outlinewidth": 0,
              "ticks": ""
             }
            },
            "type": "scatterpolar"
           }
          ],
          "scatterpolargl": [
           {
            "marker": {
             "colorbar": {
              "outlinewidth": 0,
              "ticks": ""
             }
            },
            "type": "scatterpolargl"
           }
          ],
          "scatterternary": [
           {
            "marker": {
             "colorbar": {
              "outlinewidth": 0,
              "ticks": ""
             }
            },
            "type": "scatterternary"
           }
          ],
          "surface": [
           {
            "colorbar": {
             "outlinewidth": 0,
             "ticks": ""
            },
            "colorscale": [
             [
              0,
              "#0d0887"
             ],
             [
              0.1111111111111111,
              "#46039f"
             ],
             [
              0.2222222222222222,
              "#7201a8"
             ],
             [
              0.3333333333333333,
              "#9c179e"
             ],
             [
              0.4444444444444444,
              "#bd3786"
             ],
             [
              0.5555555555555556,
              "#d8576b"
             ],
             [
              0.6666666666666666,
              "#ed7953"
             ],
             [
              0.7777777777777778,
              "#fb9f3a"
             ],
             [
              0.8888888888888888,
              "#fdca26"
             ],
             [
              1,
              "#f0f921"
             ]
            ],
            "type": "surface"
           }
          ],
          "table": [
           {
            "cells": {
             "fill": {
              "color": "#EBF0F8"
             },
             "line": {
              "color": "white"
             }
            },
            "header": {
             "fill": {
              "color": "#C8D4E3"
             },
             "line": {
              "color": "white"
             }
            },
            "type": "table"
           }
          ]
         },
         "layout": {
          "annotationdefaults": {
           "arrowcolor": "#2a3f5f",
           "arrowhead": 0,
           "arrowwidth": 1
          },
          "autotypenumbers": "strict",
          "coloraxis": {
           "colorbar": {
            "outlinewidth": 0,
            "ticks": ""
           }
          },
          "colorscale": {
           "diverging": [
            [
             0,
             "#8e0152"
            ],
            [
             0.1,
             "#c51b7d"
            ],
            [
             0.2,
             "#de77ae"
            ],
            [
             0.3,
             "#f1b6da"
            ],
            [
             0.4,
             "#fde0ef"
            ],
            [
             0.5,
             "#f7f7f7"
            ],
            [
             0.6,
             "#e6f5d0"
            ],
            [
             0.7,
             "#b8e186"
            ],
            [
             0.8,
             "#7fbc41"
            ],
            [
             0.9,
             "#4d9221"
            ],
            [
             1,
             "#276419"
            ]
           ],
           "sequential": [
            [
             0,
             "#0d0887"
            ],
            [
             0.1111111111111111,
             "#46039f"
            ],
            [
             0.2222222222222222,
             "#7201a8"
            ],
            [
             0.3333333333333333,
             "#9c179e"
            ],
            [
             0.4444444444444444,
             "#bd3786"
            ],
            [
             0.5555555555555556,
             "#d8576b"
            ],
            [
             0.6666666666666666,
             "#ed7953"
            ],
            [
             0.7777777777777778,
             "#fb9f3a"
            ],
            [
             0.8888888888888888,
             "#fdca26"
            ],
            [
             1,
             "#f0f921"
            ]
           ],
           "sequentialminus": [
            [
             0,
             "#0d0887"
            ],
            [
             0.1111111111111111,
             "#46039f"
            ],
            [
             0.2222222222222222,
             "#7201a8"
            ],
            [
             0.3333333333333333,
             "#9c179e"
            ],
            [
             0.4444444444444444,
             "#bd3786"
            ],
            [
             0.5555555555555556,
             "#d8576b"
            ],
            [
             0.6666666666666666,
             "#ed7953"
            ],
            [
             0.7777777777777778,
             "#fb9f3a"
            ],
            [
             0.8888888888888888,
             "#fdca26"
            ],
            [
             1,
             "#f0f921"
            ]
           ]
          },
          "colorway": [
           "#636efa",
           "#EF553B",
           "#00cc96",
           "#ab63fa",
           "#FFA15A",
           "#19d3f3",
           "#FF6692",
           "#B6E880",
           "#FF97FF",
           "#FECB52"
          ],
          "font": {
           "color": "#2a3f5f"
          },
          "geo": {
           "bgcolor": "white",
           "lakecolor": "white",
           "landcolor": "#E5ECF6",
           "showlakes": true,
           "showland": true,
           "subunitcolor": "white"
          },
          "hoverlabel": {
           "align": "left"
          },
          "hovermode": "closest",
          "mapbox": {
           "style": "light"
          },
          "paper_bgcolor": "white",
          "plot_bgcolor": "#E5ECF6",
          "polar": {
           "angularaxis": {
            "gridcolor": "white",
            "linecolor": "white",
            "ticks": ""
           },
           "bgcolor": "#E5ECF6",
           "radialaxis": {
            "gridcolor": "white",
            "linecolor": "white",
            "ticks": ""
           }
          },
          "scene": {
           "xaxis": {
            "backgroundcolor": "#E5ECF6",
            "gridcolor": "white",
            "gridwidth": 2,
            "linecolor": "white",
            "showbackground": true,
            "ticks": "",
            "zerolinecolor": "white"
           },
           "yaxis": {
            "backgroundcolor": "#E5ECF6",
            "gridcolor": "white",
            "gridwidth": 2,
            "linecolor": "white",
            "showbackground": true,
            "ticks": "",
            "zerolinecolor": "white"
           },
           "zaxis": {
            "backgroundcolor": "#E5ECF6",
            "gridcolor": "white",
            "gridwidth": 2,
            "linecolor": "white",
            "showbackground": true,
            "ticks": "",
            "zerolinecolor": "white"
           }
          },
          "shapedefaults": {
           "line": {
            "color": "#2a3f5f"
           }
          },
          "ternary": {
           "aaxis": {
            "gridcolor": "white",
            "linecolor": "white",
            "ticks": ""
           },
           "baxis": {
            "gridcolor": "white",
            "linecolor": "white",
            "ticks": ""
           },
           "bgcolor": "#E5ECF6",
           "caxis": {
            "gridcolor": "white",
            "linecolor": "white",
            "ticks": ""
           }
          },
          "title": {
           "x": 0.05
          },
          "xaxis": {
           "automargin": true,
           "gridcolor": "white",
           "linecolor": "white",
           "ticks": "",
           "title": {
            "standoff": 15
           },
           "zerolinecolor": "white",
           "zerolinewidth": 2
          },
          "yaxis": {
           "automargin": true,
           "gridcolor": "white",
           "linecolor": "white",
           "ticks": "",
           "title": {
            "standoff": 15
           },
           "zerolinecolor": "white",
           "zerolinewidth": 2
          }
         }
        },
        "title": {
         "text": "Top 10 Feature Importances"
        },
        "xaxis": {
         "anchor": "y",
         "domain": [
          0,
          1
         ],
         "title": {
          "text": "Importance"
         }
        },
        "yaxis": {
         "anchor": "x",
         "autorange": "reversed",
         "domain": [
          0,
          1
         ],
         "title": {
          "text": "Feature"
         }
        }
       }
      }
     },
     "metadata": {},
     "output_type": "display_data"
    }
   ],
   "source": [
    "top_feat_imp = feat_imp.head(10)\n",
    "\n",
    "fig = px.bar(\n",
    "    top_feat_imp,\n",
    "    x=\"Importance\",\n",
    "    y=\"Feature\",\n",
    "    orientation=\"h\",\n",
    "    title=\"Top 10 Feature Importances\",\n",
    "    text=\"Importance\"\n",
    ")\n",
    "\n",
    "fig.update_layout(\n",
    "    yaxis=dict(autorange=\"reversed\"),\n",
    "    margin=dict(l=120, r=20, t=50, b=50),\n",
    "    height=600\n",
    ")\n",
    "\n",
    "fig.show()"
   ]
  },
  {
   "cell_type": "markdown",
   "id": "48381f35",
   "metadata": {},
   "source": [
    "### Summary"
   ]
  },
  {
   "cell_type": "markdown",
   "id": "7b468413",
   "metadata": {},
   "source": [
    "1. Latitude (lat)\n",
    "    * Location is a key determinant of housing prices.\n",
    "    * In King County, latitude essentially captures north-south positioning, separating high-value Seattle neighborhoods and waterfront areas from less expensive inland regions.\n",
    "2. Grade\n",
    "    * Its high importance aligns with real estate logic: buyers are willing to pay more for better quality.\n",
    "3. sqft_living\n",
    "    * Larger houses generally command higher prices, so this being one of the strongest predictors is completely expected.\n",
    "4. zip_98004 (Bellevue, WA)\n",
    "    * Bellevue is one of the most expensive markets in King County, with strong job centers, schools, and proximity to Seattle tech hubs.\n",
    "5. zip_98040 (Mercer Island, WA)\n",
    "    * Mercer Island is another very high-value location, known for luxury waterfront properties and exclusive neighborhoods."
   ]
  }
 ],
 "metadata": {
  "kernelspec": {
   "display_name": "ds605",
   "language": "python",
   "name": "python3"
  },
  "language_info": {
   "codemirror_mode": {
    "name": "ipython",
    "version": 3
   },
   "file_extension": ".py",
   "mimetype": "text/x-python",
   "name": "python",
   "nbconvert_exporter": "python",
   "pygments_lexer": "ipython3",
   "version": "3.8.20"
  }
 },
 "nbformat": 4,
 "nbformat_minor": 5
}
